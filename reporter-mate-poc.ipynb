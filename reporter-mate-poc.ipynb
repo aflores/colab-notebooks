{
  "nbformat": 4,
  "nbformat_minor": 0,
  "metadata": {
    "colab": {
      "name": "Untitled5.ipynb",
      "provenance": [],
      "authorship_tag": "ABX9TyNCaIWiZ6Nq9XpSNqS2qGFZ",
      "include_colab_link": true
    },
    "kernelspec": {
      "name": "python3",
      "display_name": "Python 3"
    }
  },
  "cells": [
    {
      "cell_type": "markdown",
      "metadata": {
        "id": "view-in-github",
        "colab_type": "text"
      },
      "source": [
        "<a href=\"https://colab.research.google.com/github/aflores/colab-notebooks/blob/master/reporter-mate-poc.ipynb\" target=\"_parent\"><img src=\"https://colab.research.google.com/assets/colab-badge.svg\" alt=\"Open In Colab\"/></a>"
      ]
    },
    {
      "cell_type": "code",
      "metadata": {
        "id": "e3MmrtGSyjjj",
        "colab_type": "code",
        "colab": {}
      },
      "source": [
        "# Only the first time or when is updated\n",
        "\n",
        "# pip install reportermate"
      ],
      "execution_count": null,
      "outputs": []
    },
    {
      "cell_type": "code",
      "metadata": {
        "id": "pZyi2tNwyn8G",
        "colab_type": "code",
        "colab": {}
      },
      "source": [
        "from google.colab import drive\n",
        "drive.mount('/content/gdrive')"
      ],
      "execution_count": null,
      "outputs": []
    },
    {
      "cell_type": "code",
      "metadata": {
        "id": "LuR1A9iI0Uaw",
        "colab_type": "code",
        "colab": {
          "base_uri": "https://localhost:8080/",
          "height": 85
        },
        "outputId": "2b0ef51a-87ab-495f-dcaf-f4fd20ee8769"
      },
      "source": [
        "!ls -la '/content/gdrive/My Drive/projects/reporter-mate/undoc-afghans'"
      ],
      "execution_count": 5,
      "outputs": [
        {
          "output_type": "stream",
          "text": [
            "total 10\n",
            "drwx------ 2 root root 4096 Sep 10 20:58 data\n",
            "-rw------- 1 root root 1765 Sep 10 20:49 story.txt\n",
            "drwx------ 2 root root 4096 Sep 10 20:58 templates\n"
          ],
          "name": "stdout"
        }
      ]
    },
    {
      "cell_type": "code",
      "metadata": {
        "id": "FM20jqB3a8Wi",
        "colab_type": "code",
        "colab": {}
      },
      "source": [
        "data_folder = '/content/gdrive/My Drive/projects/reporter-mate/undoc-afghans/data/'\n",
        "template_folder = '/content/gdrive/My Drive/projects/reporter-mate/undoc-afghans/'"
      ],
      "execution_count": null,
      "outputs": []
    },
    {
      "cell_type": "markdown",
      "metadata": {
        "id": "2N9P1WF8a9Le",
        "colab_type": "text"
      },
      "source": [
        "# Exploring the Data"
      ]
    },
    {
      "cell_type": "code",
      "metadata": {
        "id": "yHfDC2hzboX7",
        "colab_type": "code",
        "colab": {}
      },
      "source": [
        "import pandas as pd \n",
        "df=pd.read_csv('gdrive/My Drive/data.csv')"
      ],
      "execution_count": null,
      "outputs": []
    },
    {
      "cell_type": "markdown",
      "metadata": {
        "id": "aegFiop-bbPP",
        "colab_type": "text"
      },
      "source": [
        "#ReporterMate"
      ]
    },
    {
      "cell_type": "code",
      "metadata": {
        "id": "l2Wxgb6v1Jrr",
        "colab_type": "code",
        "colab": {}
      },
      "source": [
        "from reportermate import analyseAndRender"
      ],
      "execution_count": null,
      "outputs": []
    },
    {
      "cell_type": "code",
      "metadata": {
        "id": "LZ86oqty2iIi",
        "colab_type": "code",
        "colab": {
          "base_uri": "https://localhost:8080/",
          "height": 765
        },
        "outputId": "d39091e9-c798-48ca-a89f-7ba5487125e6"
      },
      "source": [
        "data = data_folder + 'afg-refugee-returns-demo-data.csv'\n",
        "template = template_folder + 'highlights.txt'\n",
        "\n",
        "print(analyseAndRender(data,template))"
      ],
      "execution_count": null,
      "outputs": [
        {
          "output_type": "stream",
          "text": [
            "<section id=\"highlights\">\n",
            " Group by:\n",
            "   from_country      id  returns\n",
            "0          IRN  156380    46105\n",
            "1          OTH  179353    54795\n",
            "2          PAK  164767    50717\n",
            " -----\n",
            " Filter by:\n",
            "       id    province district  ... from_country  documented received_assistance\n",
            "6      7  Badakhshan       d1  ...          OTH           n                   y\n",
            "17    18  Badakhshan       d1  ...          OTH           y                   y\n",
            "19    20     Badghis       d2  ...          OTH           y                   y\n",
            "23    24     Badghis       d1  ...          OTH           n                   y\n",
            "32    33  Badakhshan       d1  ...          OTH           y                   y\n",
            "..   ...         ...      ...  ...          ...         ...                 ...\n",
            "973  974  Badakhshan       d1  ...          OTH           n                   y\n",
            "976  977     Badghis       d1  ...          OTH           n                   y\n",
            "986  987     Badghis       d1  ...          OTH           y                   y\n",
            "991  992     Badghis       d2  ...          OTH           y                   y\n",
            "997  998  Badakhshan       d2  ...          OTH           n                   y\n",
            "\n",
            "[172 rows x 8 columns]\n",
            " -----\n",
            " Unique (count):\n",
            " 2\n",
            " ----\n",
            "Summarize by date period:\n",
            "       id  returns\n",
            "0   51108    14990\n",
            "1   39982    12366\n",
            "2   39206    11843\n",
            "3   36849    12012\n",
            "4   40560    12526\n",
            "5   37134    12210\n",
            "6   48262    12950\n",
            "7   38858    11577\n",
            "8   37799    11691\n",
            "9   47473    13841\n",
            "10  40793    12303\n",
            "11  42476    13308\n",
            "\n",
            "\n",
            "</section>\n",
            "\n"
          ],
          "name": "stdout"
        }
      ]
    },
    {
      "cell_type": "code",
      "metadata": {
        "id": "vc3ErAP51y5v",
        "colab_type": "code",
        "colab": {}
      },
      "source": [
        ""
      ],
      "execution_count": null,
      "outputs": []
    }
  ]
}