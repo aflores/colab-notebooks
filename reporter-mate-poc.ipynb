{
  "nbformat": 4,
  "nbformat_minor": 0,
  "metadata": {
    "colab": {
      "name": "Untitled5.ipynb",
      "provenance": [],
      "authorship_tag": "ABX9TyNEC00q+wDhbCSjNpk+1FQw",
      "include_colab_link": true
    },
    "kernelspec": {
      "name": "python3",
      "display_name": "Python 3"
    }
  },
  "cells": [
    {
      "cell_type": "markdown",
      "metadata": {
        "id": "view-in-github",
        "colab_type": "text"
      },
      "source": [
        "<a href=\"https://colab.research.google.com/github/aflores/colab-notebooks/blob/master/reporter-mate-poc.ipynb\" target=\"_parent\"><img src=\"https://colab.research.google.com/assets/colab-badge.svg\" alt=\"Open In Colab\"/></a>"
      ]
    },
    {
      "cell_type": "code",
      "metadata": {
        "id": "e3MmrtGSyjjj",
        "colab_type": "code",
        "colab": {
          "base_uri": "https://localhost:8080/",
          "height": 581
        },
        "outputId": "a4a3a66c-b5a3-40b2-96f3-7e01a75e272c"
      },
      "source": [
        "# Only the first time or when is updated\n",
        "\n",
        "# pip install reportermate"
      ],
      "execution_count": 1,
      "outputs": [
        {
          "output_type": "stream",
          "text": [
            "Collecting reportermate\n",
            "  Downloading https://files.pythonhosted.org/packages/f3/08/db055dd2273f5b872ebd3d4305160c116b3a307dc7b37764af33a372006b/reportermate-0.6.2.tar.gz\n",
            "Requirement already satisfied: pandas in /usr/local/lib/python3.6/dist-packages (from reportermate) (1.0.5)\n",
            "Collecting pybars3\n",
            "  Downloading https://files.pythonhosted.org/packages/ec/1a/2fb847db017f9f89ab8519d96e35fb3dacb6170a0643fddba3b366af0af1/pybars3-0.9.7.tar.gz\n",
            "Collecting pydateinfer\n",
            "  Downloading https://files.pythonhosted.org/packages/e1/b9/2afa15f27c4f6d7a90fcdb3ca260c78f76ec981c9114e613238831e8b830/pydateinfer-0.3.0.tar.gz\n",
            "Collecting simplejson\n",
            "\u001b[?25l  Downloading https://files.pythonhosted.org/packages/73/96/1e6b19045375890068d7342cbe280dd64ae73fd90b9735b5efb8d1e044a1/simplejson-3.17.2-cp36-cp36m-manylinux2010_x86_64.whl (127kB)\n",
            "\u001b[K     |████████████████████████████████| 133kB 3.5MB/s \n",
            "\u001b[?25hRequirement already satisfied: pytz>=2017.2 in /usr/local/lib/python3.6/dist-packages (from pandas->reportermate) (2018.9)\n",
            "Requirement already satisfied: python-dateutil>=2.6.1 in /usr/local/lib/python3.6/dist-packages (from pandas->reportermate) (2.8.1)\n",
            "Requirement already satisfied: numpy>=1.13.3 in /usr/local/lib/python3.6/dist-packages (from pandas->reportermate) (1.18.5)\n",
            "Collecting PyMeta3>=0.5.1\n",
            "  Downloading https://files.pythonhosted.org/packages/ce/af/409edba35fc597f1e386e3860303791ab5a28d6cc9a8aecbc567051b19a9/PyMeta3-0.5.1.tar.gz\n",
            "Requirement already satisfied: six>=1.5 in /usr/local/lib/python3.6/dist-packages (from python-dateutil>=2.6.1->pandas->reportermate) (1.15.0)\n",
            "Building wheels for collected packages: reportermate, pybars3, pydateinfer, PyMeta3\n",
            "  Building wheel for reportermate (setup.py) ... \u001b[?25l\u001b[?25hdone\n",
            "  Created wheel for reportermate: filename=reportermate-0.6.2-cp36-none-any.whl size=6066 sha256=a56e09eec13ea8f1e4346ad9257b686651b7ce08f5b40ee3e8e0312e613bb07c\n",
            "  Stored in directory: /root/.cache/pip/wheels/de/76/d1/54c169a308fbdf8f45b5a9712d56607ce7636ac6ffc053150f\n",
            "  Building wheel for pybars3 (setup.py) ... \u001b[?25l\u001b[?25hdone\n",
            "  Created wheel for pybars3: filename=pybars3-0.9.7-cp36-none-any.whl size=14093 sha256=5b234adcbbbaacaed600fe8df90179854be4cd480e00738bd9748a7b4e6ae234\n",
            "  Stored in directory: /root/.cache/pip/wheels/36/34/84/eb0e44383aa4b6e27bf4b32274284b1909b117c1bf8ca74e79\n",
            "  Building wheel for pydateinfer (setup.py) ... \u001b[?25l\u001b[?25hdone\n",
            "  Created wheel for pydateinfer: filename=pydateinfer-0.3.0-cp36-none-any.whl size=9613 sha256=debec9ba6f9d50a6741b9073c1bfbe75c45312052008247bad8affdb71eda4e9\n",
            "  Stored in directory: /root/.cache/pip/wheels/9e/80/2f/613e98e942c9ae63bd5d4b6a927c988962f8a22150e758be0c\n",
            "  Building wheel for PyMeta3 (setup.py) ... \u001b[?25l\u001b[?25hdone\n",
            "  Created wheel for PyMeta3: filename=PyMeta3-0.5.1-cp36-none-any.whl size=16451 sha256=94a5fb86dca63065f6e99448126a5929e8b00c0e721821f320096278fc43f3f2\n",
            "  Stored in directory: /root/.cache/pip/wheels/ca/39/08/80a225ffde8b15eea306b6d603e3ed4aa44a616f7c2d485c6b\n",
            "Successfully built reportermate pybars3 pydateinfer PyMeta3\n",
            "Installing collected packages: PyMeta3, pybars3, pydateinfer, simplejson, reportermate\n",
            "Successfully installed PyMeta3-0.5.1 pybars3-0.9.7 pydateinfer-0.3.0 reportermate-0.6.2 simplejson-3.17.2\n"
          ],
          "name": "stdout"
        }
      ]
    },
    {
      "cell_type": "code",
      "metadata": {
        "id": "pZyi2tNwyn8G",
        "colab_type": "code",
        "colab": {
          "base_uri": "https://localhost:8080/",
          "height": 122
        },
        "outputId": "4125f417-442f-49be-dc47-a85c5ebf019c"
      },
      "source": [
        "from google.colab import drive\n",
        "drive.mount('/content/gdrive')"
      ],
      "execution_count": 4,
      "outputs": [
        {
          "output_type": "stream",
          "text": [
            "Go to this URL in a browser: https://accounts.google.com/o/oauth2/auth?client_id=947318989803-6bn6qk8qdgf4n4g3pfee6491hc0brc4i.apps.googleusercontent.com&redirect_uri=urn%3aietf%3awg%3aoauth%3a2.0%3aoob&scope=email%20https%3a%2f%2fwww.googleapis.com%2fauth%2fdocs.test%20https%3a%2f%2fwww.googleapis.com%2fauth%2fdrive%20https%3a%2f%2fwww.googleapis.com%2fauth%2fdrive.photos.readonly%20https%3a%2f%2fwww.googleapis.com%2fauth%2fpeopleapi.readonly&response_type=code\n",
            "\n",
            "Enter your authorization code:\n",
            "4/4AHRNEtORwVg0ZjEpC5bXLsRn6skrfyC-xvOJ_bTCEt3tzhfhDcIBvQ\n",
            "Mounted at /content/gdrive\n"
          ],
          "name": "stdout"
        }
      ]
    },
    {
      "cell_type": "code",
      "metadata": {
        "id": "LuR1A9iI0Uaw",
        "colab_type": "code",
        "colab": {
          "base_uri": "https://localhost:8080/",
          "height": 85
        },
        "outputId": "eac5ebbd-e8fa-44c5-ba81-794e9ab172be"
      },
      "source": [
        "!ls -la '/content/gdrive/My Drive/projects/reporter-mate/undoc-afghans'"
      ],
      "execution_count": 14,
      "outputs": [
        {
          "output_type": "stream",
          "text": [
            "total 10\n",
            "drwx------ 2 root root 4096 Sep 10 20:58 data\n",
            "-rw------- 1 root root 1765 Sep 10 20:49 story.txt\n",
            "drwx------ 2 root root 4096 Sep 10 20:58 templates\n"
          ],
          "name": "stdout"
        }
      ]
    },
    {
      "cell_type": "code",
      "metadata": {
        "id": "l2Wxgb6v1Jrr",
        "colab_type": "code",
        "colab": {}
      },
      "source": [
        "from reportermate import analyseAndRender"
      ],
      "execution_count": 15,
      "outputs": []
    },
    {
      "cell_type": "code",
      "metadata": {
        "id": "LZ86oqty2iIi",
        "colab_type": "code",
        "colab": {
          "base_uri": "https://localhost:8080/",
          "height": 765
        },
        "outputId": "d39091e9-c798-48ca-a89f-7ba5487125e6"
      },
      "source": [
        "data = '/content/gdrive/My Drive/projects/reporter-mate/undoc-afghans/data/afg-refugee-returns-demo-data.csv'\n",
        "template = '/content/gdrive/My Drive/projects/reporter-mate/undoc-afghans/templates/highlights.txt'\n",
        "\n",
        "print(analyseAndRender(data,template))"
      ],
      "execution_count": 17,
      "outputs": [
        {
          "output_type": "stream",
          "text": [
            "<section id=\"highlights\">\n",
            " Group by:\n",
            "   from_country      id  returns\n",
            "0          IRN  156380    46105\n",
            "1          OTH  179353    54795\n",
            "2          PAK  164767    50717\n",
            " -----\n",
            " Filter by:\n",
            "       id    province district  ... from_country  documented received_assistance\n",
            "6      7  Badakhshan       d1  ...          OTH           n                   y\n",
            "17    18  Badakhshan       d1  ...          OTH           y                   y\n",
            "19    20     Badghis       d2  ...          OTH           y                   y\n",
            "23    24     Badghis       d1  ...          OTH           n                   y\n",
            "32    33  Badakhshan       d1  ...          OTH           y                   y\n",
            "..   ...         ...      ...  ...          ...         ...                 ...\n",
            "973  974  Badakhshan       d1  ...          OTH           n                   y\n",
            "976  977     Badghis       d1  ...          OTH           n                   y\n",
            "986  987     Badghis       d1  ...          OTH           y                   y\n",
            "991  992     Badghis       d2  ...          OTH           y                   y\n",
            "997  998  Badakhshan       d2  ...          OTH           n                   y\n",
            "\n",
            "[172 rows x 8 columns]\n",
            " -----\n",
            " Unique (count):\n",
            " 2\n",
            " ----\n",
            "Summarize by date period:\n",
            "       id  returns\n",
            "0   51108    14990\n",
            "1   39982    12366\n",
            "2   39206    11843\n",
            "3   36849    12012\n",
            "4   40560    12526\n",
            "5   37134    12210\n",
            "6   48262    12950\n",
            "7   38858    11577\n",
            "8   37799    11691\n",
            "9   47473    13841\n",
            "10  40793    12303\n",
            "11  42476    13308\n",
            "\n",
            "\n",
            "</section>\n",
            "\n"
          ],
          "name": "stdout"
        }
      ]
    },
    {
      "cell_type": "code",
      "metadata": {
        "id": "vc3ErAP51y5v",
        "colab_type": "code",
        "colab": {}
      },
      "source": [
        ""
      ],
      "execution_count": null,
      "outputs": []
    }
  ]
}