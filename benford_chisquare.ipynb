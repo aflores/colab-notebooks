{
  "nbformat": 4,
  "nbformat_minor": 0,
  "metadata": {
    "colab": {
      "name": "benford-chisquare.ipynb",
      "provenance": [],
      "authorship_tag": "ABX9TyO7xfw2tn+Y8pxSl5kEdY4Y",
      "include_colab_link": true
    },
    "kernelspec": {
      "name": "python3",
      "display_name": "Python 3"
    }
  },
  "cells": [
    {
      "cell_type": "markdown",
      "metadata": {
        "id": "view-in-github",
        "colab_type": "text"
      },
      "source": [
        "<a href=\"https://colab.research.google.com/github/aflores/colab-notebooks/blob/master/benford_chisquare.ipynb\" target=\"_parent\"><img src=\"https://colab.research.google.com/assets/colab-badge.svg\" alt=\"Open In Colab\"/></a>"
      ]
    },
    {
      "cell_type": "code",
      "metadata": {
        "id": "D-fbarHW6uCr",
        "colab_type": "code",
        "colab": {}
      },
      "source": [
        ""
      ],
      "execution_count": 49,
      "outputs": []
    },
    {
      "cell_type": "markdown",
      "metadata": {
        "id": "BqOrPmwk8Cch",
        "colab_type": "text"
      },
      "source": [
        "# Benford's Law\n",
        "\n",
        "In this kata we practice how to apply the Chi-square test to determine if a list of number follow Benford's Law.\n",
        "\n",
        "But let's start by answering a couple of questions:\n",
        "\n",
        "- What is Benford's Law?\n",
        "- Why is this usefull?\n",
        "- How do we know that a given list of numbers follow Benford's Law?\n",
        "\n",
        "\n",
        "## What is Benford's Law?\n",
        "According to wikipedia:\n",
        "\n",
        "Benford's law, also called the Newcomb–Benford law, the law of anomalous numbers, or the first-digit law, is an observation about the frequency distribution of leading digits in many real-life sets of numerical data. \n",
        "\n",
        "According to this law the first (or most signfcant) digit in may real-life sets of numbers follow this distribution\n",
        "\n",
        "| digit | % distribution |\n",
        "|----| ------|\n",
        "| 1 | 30.1 |\n",
        "| 2 | 17.6 |\n",
        "| 3 | 12.5 |\n",
        "| 4 | 9.7 |\n",
        "| 5 | 7.9 |\n",
        "| 6 | 6.7 |\n",
        "| 7 | 5.8 |\n",
        "| 8 | 5.1 |\n",
        "| 9 | 4.6 | \n",
        "\n",
        "\n",
        "## Why is this usefull?\n",
        "\n",
        "## How do we know that a given list of numbers follow Benford's Law?\n",
        "\n",
        "\n",
        "\n",
        "\n",
        "## Resources\n",
        "\n",
        "- https://towardsdatascience.com/gentle-introduction-to-chi-square-test-for-independence-7182a7414a95\n",
        "\n",
        "- https://www.youtube.com/watch?v=2QeDRsxSF9M"
      ]
    },
    {
      "cell_type": "code",
      "metadata": {
        "id": "qAJ3ncfh9Vkq",
        "colab_type": "code",
        "colab": {}
      },
      "source": [
        "#\n",
        "import numpy as np\n",
        "import pandas as pd\n",
        "import matplotlib.pyplot as plt\n",
        "from scipy import stats\n",
        "\n",
        "## experimental data, protein size, ...\n",
        "naa = [40055, 27711, 36332, 13309, 12808, 3425, 56868, 44400, 26557, 48423, \n",
        "       14844, 47584, 26641, 27510, 21004, 13527, 80355, 34317, 33004, 32609, \n",
        "       37652, 27852, 192897, 62837, 18936, 27551, 20574, 18708, 31629, 36769, \n",
        "       3394, 51287, 37785, 44999, 19053, 64524, 24274, 44360, 11626, 24942, \n",
        "       18248, 9086, 36636, 22415, 55285, 61596, 64841, 16850, 36145, 28193, \n",
        "       36236, 14643, 5064, 11241, 2890, 29797, 14445, 14332, 33444, 58127, 64262, \n",
        "       12374, 45264, 13555, 5026, 27469, 41704, 11652, 9654, 27854, 60503, 26307, \n",
        "       36306, 43643, 8511, 103416, 16914, 63771, 27967, 55336, 33749, 37857, 34322, \n",
        "       9149, 30535, 11454, 53351, 85349, 152093, 50425, 34097, 25820, 41280, 64104, \n",
        "       54594, 49515, 46720, 35481, 24628, 37274, 54113, 39747, 39373, 15803, 30657, \n",
        "       39552, 41612, 37797, 10416, 33914, 17017, 40889, 10288, 67021, 42538, 8436, \n",
        "       38042, 11930, 77894, 50805, 23632, 49670, 2614, 23954, 9860, 57545, 46826, \n",
        "       58679, 69640, 23940, 50590, 27693, 35705, 21997, 40607, 5414, 38285, 11261, \n",
        "       123691, 51860, 49265, 5125, 46084, 29732, 15568, 18376, 14352, 38818, 17392, \n",
        "       32460, 50364, 4421, 7161, 18344, 21850, 25299, 14129, 14530, 22150, 35136, \n",
        "       5170, 43089, 5748, 43761, 33491, 43027, 66908, 20856, 35835, 34878, 17926, \n",
        "       16568, 27354, 72621, 131102, 11916, 17526, 29761, 84144, 26944, 9300, 626, 23406, 62492, 4230, 4195, 5897, 10393, 64900, 25675, 29653, 20305, 6523, 26771, 13912, 38499, 44921, 9045, 44187, 1344, 7177, 32502, 37091, 88008, 22020, 6790, 15748, 19431, 56321, 5683, 20250, 20437, 29473, 44684, 25930, 30302, 14574, 136485, 35242, 49883, 23935, 1640, 33338, 1508, 70164, 36366, 70161, 36666, 36970, 39757, 82280, 37944, 40951, 27397, 69690, 35003, 66168, 87552, 126056, 57127, 40335, 63955, 125260, 14674, 21548, 14656, 21934, 7862, 24767, 10811, 32661, 46748, 25467, 58673, 11264, 60199, 18799, 6513, 2253, 36712, 22885, 17548, 29870, 37949, 15386, 62111, 51134, 1735, 18269, 82362, 34355, 13199, 16853, 39614, 46452, 13833, 53883, 37563, 36637, 22871, 39574, 30017, 1147, 13522, 44112, 36598, 12525, 10614, 15627, 44802, 47193, 53677, 61054, 12945, 42905, 2558, 331774, 6734, 21457, 51491, 37197, 13542, 16495, 109616, 31379, 17175, 76105, 27734, 25276, 14537, 38191, 22069, 41348, 34746, 35426, 39343, 37929, 47420, 28223, 27755, 27007, 30816, 15623, 98138, 42984, 46130, 12264, 21960, 40755, 98353, 12675, 100728, 57881, 27907, 25722, 18483, 17548, 53622, 71649, 13684, 33692, 96542, 35028, 19657, 12132, 16538, 101121, 19229, 25289, 22407, 72784, 19841, 22639, 81729, 53888, 82644, 49803, 23756, 17963, 42399, 8525, 56083, 37827, 83002, 32990, 20027, 7450, 12528, 10693, 34700, 24628, 25052, 30321, 52766, 13469, 25037, 22778, 27076, 18913, 12355, 60058, 41671, 64229, 79737, 30952, 81983, 11241, 26588, 30434, 34335, 75246, 7161, 42843, 2138, 58323, 19976, 29223, 13253, 15704, 43887, 15506, 42639, 13955, 78452, 33828, 24313, 40600, 21985, 14930, 88702, 57545, 17980, 32503, 35761, 161851, 40083, 41989, 3540, 75244, 21494, 96423, 41632, 34773, 10560, 98540, 27657, 10265, 22645, 65203, 30809, 48566, 59685, 36875, 7296, 11701, 118950, 35185, 15649, 52043, 13751, 36057, 55694, 71607, 143626, 15604, 16713, 24177, 158598, 19304, 13964, 42171, 29018, 50340, 36697, 26844, 36021, 56938, 11576, 33854, 55018, 64000, 36293, 27211, 6570, 102953, 31491, 47414, 37642, 14435, 20439, 22358, 19793, 17889, 29894, 21665, 8835, 24870, 33024, 39666, 31076, 44038, 23011, 21942, 35205, 13883, 19044, 42900, 38668, 85282, 54053, 14979, 18090, 65513, 32238, 39368, 34105, 68725, 53162, 24792, 104422]"
      ],
      "execution_count": 18,
      "outputs": []
    },
    {
      "cell_type": "code",
      "metadata": {
        "id": "QfphX6gg-Csf",
        "colab_type": "code",
        "colab": {
          "base_uri": "https://localhost:8080/",
          "height": 295
        },
        "outputId": "5c095f2c-84a9-4418-9e42-0fd9cbcd2508"
      },
      "source": [
        "BENFORD_DIST = [30.1,17.6,12.5,9.7,7.9,6.7,5.8,5.1,4.6]\n",
        "\n",
        "plt.bar(range(1,10), BENFORD_DIST)\n",
        "plt.title(\"Benford's Law - First digit distribution\")\n",
        "plt.xticks(np.arange(1, 10, 1))\n",
        "plt.xlabel('First Digit')\n",
        "plt.ylabel('% Distribution')\n",
        "plt.grid(color='#95a5a6', linestyle='--', linewidth=1, axis='y', alpha=0.5)\n"
      ],
      "execution_count": 28,
      "outputs": [
        {
          "output_type": "display_data",
          "data": {
            "image/png": "[encoded data removed]",
            "text/plain": [
              "<Figure size 432x288 with 1 Axes>"
            ]
          },
          "metadata": {
            "tags": [],
            "needs_background": "light"
          }
        }
      ]
    },
    {
      "cell_type": "code",
      "metadata": {
        "id": "fD-X8R9QC7df",
        "colab_type": "code",
        "colab": {}
      },
      "source": [
        "# runtime flags\n",
        "# these are boolean to determine if a particualar calculation (cell) show be executed when running the entire set\n",
        "#calculate_obs_percentances = False\n",
        "#caluculate_expected_values = False\n",
        "khan_academy_example = True\n"
      ],
      "execution_count": 54,
      "outputs": []
    },
    {
      "cell_type": "code",
      "metadata": {
        "id": "2JZmUdunLkhx",
        "colab_type": "code",
        "colab": {
          "base_uri": "https://localhost:8080/",
          "height": 153
        },
        "outputId": "a9b6897c-183d-4f08-a4d9-d2e3af010735"
      },
      "source": [
        "# Khan Academy Example\n",
        "if khan_academy_example:\n",
        "  df = pd.DataFrame(index =['M','T','W','T','F','S'])\n",
        "  df['observed'] = [30,14,34,45,57,20]\n",
        "  obs_sum = np.sum(df['observed'])\n",
        "  df['expected'] = obs_sum*np.array([.1,.1,.15,.2,.3,.15])\n",
        "  print(df)\n",
        "  print(stats.chisquare(df['observed'],df['expected']))\n",
        "  "
      ],
      "execution_count": 85,
      "outputs": [
        {
          "output_type": "stream",
          "text": [
            "   observed  expected\n",
            "M        30      20.0\n",
            "T        14      20.0\n",
            "W        34      30.0\n",
            "T        45      40.0\n",
            "F        57      60.0\n",
            "S        20      30.0\n",
            "Power_divergenceResult(statistic=11.441666666666666, pvalue=0.04329313031580497)\n"
          ],
          "name": "stdout"
        }
      ]
    },
    {
      "cell_type": "code",
      "metadata": {
        "id": "491x-VAcCEO0",
        "colab_type": "code",
        "colab": {}
      },
      "source": [
        "#\n",
        "#\n",
        "#\n",
        "observed_values_name = 'protein sequence lengths' # ' Khan Academy '\n",
        "observed_values =  naa #  [30,14,34, 45, 57, 20] #\n",
        "pct_expected = BENFORD_DIST # [10,10,15,20,30,15] # \n"
      ],
      "execution_count": 36,
      "outputs": []
    },
    {
      "cell_type": "code",
      "metadata": {
        "id": "zWl6TXSG9ejp",
        "colab_type": "code",
        "colab": {}
      },
      "source": [
        "# Return the leading digit of x, assuming x is a positive integer.\n",
        "\n",
        "def leadingDigit(x):\n",
        "    while x >= 10:\n",
        "        x //= 10\n",
        "    return x\n"
      ],
      "execution_count": 37,
      "outputs": []
    },
    {
      "cell_type": "code",
      "metadata": {
        "id": "lubFofvg90Yk",
        "colab_type": "code",
        "colab": {}
      },
      "source": [
        "# count the ocurrences of first digits\n",
        "counts=np.empty(10) \n",
        "counts.fill(0)\n",
        "\n",
        "pcts =  np.empty(10)\n",
        "pcts.fill(0)\n",
        "n = int(0)   # items read\n",
        "\n",
        "for i in observed_values:\n",
        "  digit = leadingDigit(i)\n",
        "  counts[digit] += int(1)\n",
        "  n += 1\n",
        "                        "
      ],
      "execution_count": 78,
      "outputs": []
    },
    {
      "cell_type": "code",
      "metadata": {
        "id": "BzW-gCd0FrUk",
        "colab_type": "code",
        "colab": {
          "base_uri": "https://localhost:8080/",
          "height": 187
        },
        "outputId": "2901c497-c5b2-460d-dc8a-4c89401ea29f"
      },
      "source": [
        "print(f\"From {observed_values_name} with {n} observations\")\n",
        "for i in range(1,10):\n",
        "    val = 100 * float(counts[i]) / float(n)\n",
        "    pcts[i] = val\n",
        "    print(f'{i:1n}: count:{counts[i]:4n}\\tpct:{val:5.1f}')"
      ],
      "execution_count": 79,
      "outputs": [
        {
          "output_type": "stream",
          "text": [
            "From protein sequence lengths with 500 observations\n",
            "1: count: 125\tpct: 25.0\n",
            "2: count:  95\tpct: 19.0\n",
            "3: count: 100\tpct: 20.0\n",
            "4: count:  58\tpct: 11.6\n",
            "5: count:  45\tpct:  9.0\n",
            "6: count:  31\tpct:  6.2\n",
            "7: count:  18\tpct:  3.6\n",
            "8: count:  17\tpct:  3.4\n",
            "9: count:  11\tpct:  2.2\n"
          ],
          "name": "stdout"
        }
      ]
    },
    {
      "cell_type": "code",
      "metadata": {
        "id": "QP2GqQv-cn05",
        "colab_type": "code",
        "colab": {
          "base_uri": "https://localhost:8080/",
          "height": 265
        },
        "outputId": "928154f9-17ed-4686-b95e-52f31e692e44"
      },
      "source": [
        "\n",
        "\n",
        "plt.plot(range(1,10), pcts[1:])\n",
        "plt.plot(range(1,10), BENFORD)\n",
        "plt.show()"
      ],
      "execution_count": 80,
      "outputs": [
        {
          "output_type": "display_data",
          "data": {
            "image/png": "[encoded data removed]",
            "text/plain": [
              "<Figure size 432x288 with 1 Axes>"
            ]
          },
          "metadata": {
            "tags": [],
            "needs_background": "light"
          }
        }
      ]
    },
    {
      "cell_type": "code",
      "metadata": {
        "id": "t2mBUb8wcsHv",
        "colab_type": "code",
        "colab": {}
      },
      "source": [
        "expected = 5*np.array(BENFORD)"
      ],
      "execution_count": 81,
      "outputs": []
    },
    {
      "cell_type": "code",
      "metadata": {
        "id": "Fip3RrNWfGZ8",
        "colab_type": "code",
        "colab": {
          "base_uri": "https://localhost:8080/",
          "height": 328
        },
        "outputId": "6b57c724-1bf1-4e4f-9e26-158e5e122261"
      },
      "source": [
        "df = pd.DataFrame(index =['1','2','3','4','5','6','7','8','9'])\n",
        "df['observed'] = counts[1:]\n",
        "df['expected'] = expected\n",
        "df"
      ],
      "execution_count": 82,
      "outputs": [
        {
          "output_type": "execute_result",
          "data": {
            "text/html": [
              "<div>\n",
              "<style scoped>\n",
              "    .dataframe tbody tr th:only-of-type {\n",
              "        vertical-align: middle;\n",
              "    }\n",
              "\n",
              "    .dataframe tbody tr th {\n",
              "        vertical-align: top;\n",
              "    }\n",
              "\n",
              "    .dataframe thead th {\n",
              "        text-align: right;\n",
              "    }\n",
              "</style>\n",
              "<table border=\"1\" class=\"dataframe\">\n",
              "  <thead>\n",
              "    <tr style=\"text-align: right;\">\n",
              "      <th></th>\n",
              "      <th>observed</th>\n",
              "      <th>expected</th>\n",
              "    </tr>\n",
              "  </thead>\n",
              "  <tbody>\n",
              "    <tr>\n",
              "      <th>1</th>\n",
              "      <td>125.0</td>\n",
              "      <td>150.5</td>\n",
              "    </tr>\n",
              "    <tr>\n",
              "      <th>2</th>\n",
              "      <td>95.0</td>\n",
              "      <td>88.0</td>\n",
              "    </tr>\n",
              "    <tr>\n",
              "      <th>3</th>\n",
              "      <td>100.0</td>\n",
              "      <td>62.5</td>\n",
              "    </tr>\n",
              "    <tr>\n",
              "      <th>4</th>\n",
              "      <td>58.0</td>\n",
              "      <td>48.5</td>\n",
              "    </tr>\n",
              "    <tr>\n",
              "      <th>5</th>\n",
              "      <td>45.0</td>\n",
              "      <td>39.5</td>\n",
              "    </tr>\n",
              "    <tr>\n",
              "      <th>6</th>\n",
              "      <td>31.0</td>\n",
              "      <td>33.5</td>\n",
              "    </tr>\n",
              "    <tr>\n",
              "      <th>7</th>\n",
              "      <td>18.0</td>\n",
              "      <td>29.0</td>\n",
              "    </tr>\n",
              "    <tr>\n",
              "      <th>8</th>\n",
              "      <td>17.0</td>\n",
              "      <td>25.5</td>\n",
              "    </tr>\n",
              "    <tr>\n",
              "      <th>9</th>\n",
              "      <td>11.0</td>\n",
              "      <td>23.0</td>\n",
              "    </tr>\n",
              "  </tbody>\n",
              "</table>\n",
              "</div>"
            ],
            "text/plain": [
              "   observed  expected\n",
              "1     125.0     150.5\n",
              "2      95.0      88.0\n",
              "3     100.0      62.5\n",
              "4      58.0      48.5\n",
              "5      45.0      39.5\n",
              "6      31.0      33.5\n",
              "7      18.0      29.0\n",
              "8      17.0      25.5\n",
              "9      11.0      23.0"
            ]
          },
          "metadata": {
            "tags": []
          },
          "execution_count": 82
        }
      ]
    },
    {
      "cell_type": "code",
      "metadata": {
        "id": "IXYbO9e3TG9a",
        "colab_type": "code",
        "colab": {
          "base_uri": "https://localhost:8080/",
          "height": 34
        },
        "outputId": "4f18f864-1183-4d19-989a-6bd82b2ee212"
      },
      "source": [
        "stats.chisquare(df['observed'],df['expected'])"
      ],
      "execution_count": 83,
      "outputs": [
        {
          "output_type": "execute_result",
          "data": {
            "text/plain": [
              "Power_divergenceResult(statistic=43.45724757137415, pvalue=7.203359522486073e-07)"
            ]
          },
          "metadata": {
            "tags": []
          },
          "execution_count": 83
        }
      ]
    },
    {
      "cell_type": "code",
      "metadata": {
        "id": "mxSKOOJ6UyMI",
        "colab_type": "code",
        "colab": {}
      },
      "source": [
        ""
      ],
      "execution_count": 57,
      "outputs": []
    }
  ]
}