{
  "nbformat": 4,
  "nbformat_minor": 0,
  "metadata": {
    "colab": {
      "provenance": [],
      "toc_visible": true,
      "mount_file_id": "1cCA_ETQUN_Vdvu59PV3bvpxO0ErCIo8M",
      "authorship_tag": "ABX9TyOd4pd8L3ZFLFpwOp23N9VD",
      "include_colab_link": true
    },
    "kernelspec": {
      "name": "python3",
      "display_name": "Python 3"
    },
    "language_info": {
      "name": "python"
    }
  },
  "cells": [
    {
      "cell_type": "markdown",
      "metadata": {
        "id": "view-in-github",
        "colab_type": "text"
      },
      "source": [
        "<a href=\"https://colab.research.google.com/github/aflores/colab-notebooks/blob/master/hotel_booking.ipynb\" target=\"_parent\"><img src=\"https://colab.research.google.com/assets/colab-badge.svg\" alt=\"Open In Colab\"/></a>"
      ]
    },
    {
      "cell_type": "markdown",
      "source": [
        "# Prerequisites\n",
        "\n",
        "Install dependencies and define constants.\n",
        "\n",
        "It is ok to ingnore the following error message:\n",
        "\n",
        "ERROR: pip's dependency resolver does not currently "
      ],
      "metadata": {
        "id": "F5yZZV5tuxs9"
      }
    },
    {
      "cell_type": "code",
      "source": [
        "#\n",
        "# ydata-profiling is a one-line Exploratory Data Analysis (EDA) tool (kinda like pandas describe() but on steroids)\n",
        "# for now it is safe to disregard the 'visions' version error message\n",
        "!pip install ydata-profiling\n",
        "# Scikit  is an open source machine learning library that supports supervised and unsupervised learning. \n",
        "# It also provides various tools for model fitting, data preprocessing, model selection, model evaluation, \n",
        "# and many other utilities.\n",
        "!pip install scikit-learn"
      ],
      "metadata": {
        "id": "Gl5C6y8G_1Ni"
      },
      "execution_count": null,
      "outputs": []
    },
    {
      "cell_type": "code",
      "execution_count": null,
      "metadata": {
        "id": "mpIMnmaLpTi0"
      },
      "outputs": [],
      "source": [
        "import numpy as np\n",
        "import pandas as pd\n",
        "import seaborn as sns\n",
        "\n",
        "import matplotlib.pyplot as plt\n",
        "# set the figure size using rcParams\n",
        "plt.rcParams['figure.figsize'] = [12, 6]\n",
        "\n",
        "from ydata_profiling import ProfileReport\n",
        "\n",
        "from sklearn.model_selection import train_test_split\n",
        "from sklearn import preprocessing\n",
        "from sklearn.preprocessing import StandardScaler\n"
      ]
    },
    {
      "cell_type": "code",
      "source": [
        "# Notebook specific variables\n",
        "data_path = './drive/MyDrive/Colab Data/hotel-booking-data/'\n",
        "bookings_file = f\"{data_path}hotel-booking.csv\""
      ],
      "metadata": {
        "id": "EoVs2msWgpRU"
      },
      "execution_count": null,
      "outputs": []
    },
    {
      "cell_type": "markdown",
      "source": [
        "# Load the data and do basic inspection"
      ],
      "metadata": {
        "id": "oAxDE4qlKXte"
      }
    },
    {
      "cell_type": "code",
      "source": [
        "# Load the csv file into a pandas data frame\n",
        "raw_bookings = pd.read_csv(bookings_file)"
      ],
      "metadata": {
        "id": "1KbGuIBEwMVs"
      },
      "execution_count": null,
      "outputs": []
    },
    {
      "cell_type": "code",
      "source": [
        "# column information description\n",
        "raw_bookings.info()"
      ],
      "metadata": {
        "id": "m4aREAtywuoD"
      },
      "execution_count": null,
      "outputs": []
    },
    {
      "cell_type": "code",
      "source": [
        "# Statistical analysis of the numeric values in the dataFrame\n",
        "raw_bookings.describe().transpose()"
      ],
      "metadata": {
        "id": "CWFs39sS0PSu"
      },
      "execution_count": null,
      "outputs": []
    },
    {
      "cell_type": "code",
      "source": [
        "# look for empty cells\n",
        "print(f\"{'-' * 40}\\nLook for nulls\\nThis information is also in the Missing Values tab of the Profile Report\\n{'-' * 40}\")\n",
        "raw_bookings.isna().sum()"
      ],
      "metadata": {
        "id": "kxC7Y2Fxtglj"
      },
      "execution_count": null,
      "outputs": []
    },
    {
      "cell_type": "markdown",
      "source": [
        "# Feature Engineering\n",
        "\n",
        "Base of the output from the report:"
      ],
      "metadata": {
        "id": "sqf2OTLaJR4v"
      }
    },
    {
      "cell_type": "markdown",
      "source": [
        "## Run a data profile report"
      ],
      "metadata": {
        "id": "MVFX6RXKKtF4"
      }
    },
    {
      "cell_type": "code",
      "source": [
        "# Prepare the profiling report\n",
        "# this might take a couple of minutes\n",
        "profile = ProfileReport(raw_bookings, title=\"Pandas Profiling Report\")"
      ],
      "metadata": {
        "id": "W4_CF327Afad"
      },
      "execution_count": null,
      "outputs": []
    },
    {
      "cell_type": "code",
      "source": [
        "# run and render\n",
        "profile.to_notebook_iframe()"
      ],
      "metadata": {
        "id": "UuLo7y7TB1gb"
      },
      "execution_count": null,
      "outputs": []
    },
    {
      "cell_type": "markdown",
      "source": [
        "## Columns of interest"
      ],
      "metadata": {
        "id": "axF3Pj2tJjzv"
      }
    },
    {
      "cell_type": "code",
      "source": [
        "# use this in case you need to reload the full dataFrame as you indentify \n",
        "# additional columns to add or drop\n",
        "#\n",
        "# raw_bookings = pd.read_csv(bookings_file)"
      ],
      "metadata": {
        "id": "vEaehWfbSVLA"
      },
      "execution_count": null,
      "outputs": []
    },
    {
      "cell_type": "code",
      "source": [
        "columns_to_include = ['is_canceled', 'hotel', 'lead_time', 'arrival_date_year', 'arrival_date_month', 'arrival_date_day_of_month', 'stays_in_weekend_nights', 'stays_in_week_nights',\n",
        "'adults', 'children', 'babies', 'is_repeated_guest', 'previous_cancellations', 'previous_bookings_not_canceled', 'reserved_room_type', 'booking_changes',\n",
        "'deposit_type', 'customer_type', 'adr']\n",
        "\n",
        "print(f'Raw file shate: {raw_bookings.shape}')\n",
        "df_bookings = raw_bookings.loc[:,columns_to_include]\n",
        "print(f'df_bookings {df_bookings.shape}')"
      ],
      "metadata": {
        "id": "c2Ysp-KJGIYd"
      },
      "execution_count": null,
      "outputs": []
    },
    {
      "cell_type": "markdown",
      "source": [
        "## Drop outliers"
      ],
      "metadata": {
        "id": "v6Y3lTKnMNJs"
      }
    },
    {
      "cell_type": "code",
      "source": [
        "# these are rows that look suspicious and you may want to eliminate\n",
        "#\n",
        "# raw_bookings[raw_bookings['adr'] > 500][['is_canceled','reservation_status','reservation_status_date']]\n",
        "# adr outlier 5400 ?\n",
        "df_bookings = df_bookings[df_bookings.adr < 600]\n",
        "print(f'Shape AFTER dropping {df_bookings.shape}')"
      ],
      "metadata": {
        "id": "W9bANf9ZMLwj"
      },
      "execution_count": null,
      "outputs": []
    },
    {
      "cell_type": "markdown",
      "source": [
        "# Missing Data and other transformations\n"
      ],
      "metadata": {
        "id": "JfWgQAMdh1C8"
      }
    },
    {
      "cell_type": "code",
      "source": [
        "# fill null values\n",
        "df_bookings.isna().sum()\n",
        "df_bookings['children'] = df_bookings['children'].fillna(0)\n",
        "df_bookings['children'] = df_bookings['children'].astype(int)\n",
        "\n",
        "df_bookings['agent'] = df_bookings['children'].fillna(0)\n",
        "df_bookings['agent'] = df_bookings['agent'].astype(int)\n",
        "\n",
        "df_bookings['company'] = df_bookings['children'].fillna(0)\n",
        "df_bookings['company'] = df_bookings['company'].astype(int)"
      ],
      "metadata": {
        "id": "cQTdTHExjPdB"
      },
      "execution_count": null,
      "outputs": []
    },
    {
      "cell_type": "code",
      "source": [
        "# One-hot encodings\n",
        "df_bookings = pd.get_dummies(df_bookings,columns=['hotel','reserved_room_type','deposit_type', 'customer_type',\n",
        "                                                  'arrival_date_year','arrival_date_month','arrival_date_day_of_month'])"
      ],
      "metadata": {
        "id": "tTzikSOAwkn6"
      },
      "execution_count": null,
      "outputs": []
    },
    {
      "cell_type": "code",
      "source": [
        "df_bookings.info()"
      ],
      "metadata": {
        "colab": {
          "base_uri": "https://localhost:8080/"
        },
        "id": "c4gZdakIzh3p",
        "outputId": "f4743cfd-66b1-4fe9-cf74-96ccc4c72a42"
      },
      "execution_count": 94,
      "outputs": [
        {
          "output_type": "stream",
          "name": "stdout",
          "text": [
            "<class 'pandas.core.frame.DataFrame'>\n",
            "Int64Index: 119389 entries, 0 to 119389\n",
            "Data columns (total 79 columns):\n",
            " #   Column                          Non-Null Count   Dtype  \n",
            "---  ------                          --------------   -----  \n",
            " 0   is_canceled                     119389 non-null  int64  \n",
            " 1   lead_time                       119389 non-null  int64  \n",
            " 2   stays_in_weekend_nights         119389 non-null  int64  \n",
            " 3   stays_in_week_nights            119389 non-null  int64  \n",
            " 4   adults                          119389 non-null  int64  \n",
            " 5   children                        119389 non-null  int64  \n",
            " 6   babies                          119389 non-null  int64  \n",
            " 7   is_repeated_guest               119389 non-null  int64  \n",
            " 8   previous_cancellations          119389 non-null  int64  \n",
            " 9   previous_bookings_not_canceled  119389 non-null  int64  \n",
            " 10  booking_changes                 119389 non-null  int64  \n",
            " 11  adr                             119389 non-null  float64\n",
            " 12  agent                           119389 non-null  int64  \n",
            " 13  company                         119389 non-null  int64  \n",
            " 14  hotel_City Hotel                119389 non-null  uint8  \n",
            " 15  hotel_Resort Hotel              119389 non-null  uint8  \n",
            " 16  reserved_room_type_A            119389 non-null  uint8  \n",
            " 17  reserved_room_type_B            119389 non-null  uint8  \n",
            " 18  reserved_room_type_C            119389 non-null  uint8  \n",
            " 19  reserved_room_type_D            119389 non-null  uint8  \n",
            " 20  reserved_room_type_E            119389 non-null  uint8  \n",
            " 21  reserved_room_type_F            119389 non-null  uint8  \n",
            " 22  reserved_room_type_G            119389 non-null  uint8  \n",
            " 23  reserved_room_type_H            119389 non-null  uint8  \n",
            " 24  reserved_room_type_L            119389 non-null  uint8  \n",
            " 25  reserved_room_type_P            119389 non-null  uint8  \n",
            " 26  deposit_type_No Deposit         119389 non-null  uint8  \n",
            " 27  deposit_type_Non Refund         119389 non-null  uint8  \n",
            " 28  deposit_type_Refundable         119389 non-null  uint8  \n",
            " 29  customer_type_Contract          119389 non-null  uint8  \n",
            " 30  customer_type_Group             119389 non-null  uint8  \n",
            " 31  customer_type_Transient         119389 non-null  uint8  \n",
            " 32  customer_type_Transient-Party   119389 non-null  uint8  \n",
            " 33  arrival_date_year_2015          119389 non-null  uint8  \n",
            " 34  arrival_date_year_2016          119389 non-null  uint8  \n",
            " 35  arrival_date_year_2017          119389 non-null  uint8  \n",
            " 36  arrival_date_month_April        119389 non-null  uint8  \n",
            " 37  arrival_date_month_August       119389 non-null  uint8  \n",
            " 38  arrival_date_month_December     119389 non-null  uint8  \n",
            " 39  arrival_date_month_February     119389 non-null  uint8  \n",
            " 40  arrival_date_month_January      119389 non-null  uint8  \n",
            " 41  arrival_date_month_July         119389 non-null  uint8  \n",
            " 42  arrival_date_month_June         119389 non-null  uint8  \n",
            " 43  arrival_date_month_March        119389 non-null  uint8  \n",
            " 44  arrival_date_month_May          119389 non-null  uint8  \n",
            " 45  arrival_date_month_November     119389 non-null  uint8  \n",
            " 46  arrival_date_month_October      119389 non-null  uint8  \n",
            " 47  arrival_date_month_September    119389 non-null  uint8  \n",
            " 48  arrival_date_day_of_month_1     119389 non-null  uint8  \n",
            " 49  arrival_date_day_of_month_2     119389 non-null  uint8  \n",
            " 50  arrival_date_day_of_month_3     119389 non-null  uint8  \n",
            " 51  arrival_date_day_of_month_4     119389 non-null  uint8  \n",
            " 52  arrival_date_day_of_month_5     119389 non-null  uint8  \n",
            " 53  arrival_date_day_of_month_6     119389 non-null  uint8  \n",
            " 54  arrival_date_day_of_month_7     119389 non-null  uint8  \n",
            " 55  arrival_date_day_of_month_8     119389 non-null  uint8  \n",
            " 56  arrival_date_day_of_month_9     119389 non-null  uint8  \n",
            " 57  arrival_date_day_of_month_10    119389 non-null  uint8  \n",
            " 58  arrival_date_day_of_month_11    119389 non-null  uint8  \n",
            " 59  arrival_date_day_of_month_12    119389 non-null  uint8  \n",
            " 60  arrival_date_day_of_month_13    119389 non-null  uint8  \n",
            " 61  arrival_date_day_of_month_14    119389 non-null  uint8  \n",
            " 62  arrival_date_day_of_month_15    119389 non-null  uint8  \n",
            " 63  arrival_date_day_of_month_16    119389 non-null  uint8  \n",
            " 64  arrival_date_day_of_month_17    119389 non-null  uint8  \n",
            " 65  arrival_date_day_of_month_18    119389 non-null  uint8  \n",
            " 66  arrival_date_day_of_month_19    119389 non-null  uint8  \n",
            " 67  arrival_date_day_of_month_20    119389 non-null  uint8  \n",
            " 68  arrival_date_day_of_month_21    119389 non-null  uint8  \n",
            " 69  arrival_date_day_of_month_22    119389 non-null  uint8  \n",
            " 70  arrival_date_day_of_month_23    119389 non-null  uint8  \n",
            " 71  arrival_date_day_of_month_24    119389 non-null  uint8  \n",
            " 72  arrival_date_day_of_month_25    119389 non-null  uint8  \n",
            " 73  arrival_date_day_of_month_26    119389 non-null  uint8  \n",
            " 74  arrival_date_day_of_month_27    119389 non-null  uint8  \n",
            " 75  arrival_date_day_of_month_28    119389 non-null  uint8  \n",
            " 76  arrival_date_day_of_month_29    119389 non-null  uint8  \n",
            " 77  arrival_date_day_of_month_30    119389 non-null  uint8  \n",
            " 78  arrival_date_day_of_month_31    119389 non-null  uint8  \n",
            "dtypes: float64(1), int64(13), uint8(65)\n",
            "memory usage: 21.1 MB\n"
          ]
        }
      ]
    },
    {
      "cell_type": "code",
      "source": [
        "# Split the data\n",
        "X, y = df_bookings.iloc[:,1:].values, df_bookings.iloc[:,0].values\n",
        "X_train, X_test, y_train, y_test = \\\n",
        "   train_test_split(X, y, test_size=0.3, random_state=0, stratify=y)"
      ],
      "metadata": {
        "id": "Kj1Nj-oz_CVe"
      },
      "execution_count": null,
      "outputs": []
    },
    {
      "cell_type": "code",
      "source": [
        "# NEXT Scaling data \n"
      ],
      "metadata": {
        "id": "2DbcaniGivz2"
      },
      "execution_count": null,
      "outputs": []
    },
    {
      "cell_type": "code",
      "source": [],
      "metadata": {
        "id": "I-GMQ2i7_8v9"
      },
      "execution_count": null,
      "outputs": []
    },
    {
      "cell_type": "markdown",
      "source": [
        "# Misc."
      ],
      "metadata": {
        "id": "TxJRh9VYJYZe"
      }
    },
    {
      "cell_type": "code",
      "source": [
        "from sklearn import preprocessing\n",
        "le = preprocessing.LabelEncoder()\n",
        "le.fit(df_bookings['arrival_date_month'].unique())\n",
        "le.transform(df_bookings['arrival_date_month'])"
      ],
      "metadata": {
        "id": "y83NopTQwiLQ"
      },
      "execution_count": null,
      "outputs": []
    },
    {
      "cell_type": "code",
      "source": [
        "#raw_bookings[raw_bookings.adults > 10][['is_canceled','hotel','adults']]\n",
        "#sns.countplot(data=raw_bookings, x='hotel', hue='market_segment')\n",
        "#sns.countplot(data=raw_bookings, x='is_repeated_guest', hue='is_canceled')\n",
        "#raw_bookings[(raw_bookings.is_canceled == 1) & (raw_bookings.reservation_status != 'Canceled')]['reservation_status'].unique()\n",
        "#raw_bookings[raw_bookings['agent'].isna()][['agent','company']]\n",
        "raw_bookings.head()"
      ],
      "metadata": {
        "id": "J0alsPo6bhTQ"
      },
      "execution_count": null,
      "outputs": []
    },
    {
      "cell_type": "code",
      "source": [
        "%%script false --no-raise-error # do not process this cell\n",
        "#sns.countplot(data=raw_bookings[raw_bookings['reservation_status'] == 'Canceled'],x=\"reservation_status_date\", hue=\"reservation_status\")\n",
        "sns.countplot(\n",
        "    data=raw_bookings[\n",
        "        (raw_bookings['reservation_status'] == 'Canceled') \n",
        "        & (raw_bookings['reservation_status_date'].str.contains('2015-12-'))]\n",
        "    ,x=\"reservation_status_date\"\n",
        "    ,hue=\"reservation_status\")"
      ],
      "metadata": {
        "id": "dTiqphic0Vws"
      },
      "execution_count": null,
      "outputs": []
    },
    {
      "cell_type": "code",
      "source": [
        "%%script false --no-raise-error\n",
        "sns.countplot(\n",
        "    data=raw_bookings[\n",
        "        (raw_bookings['reservation_status'] == 'Canceled')\n",
        "        & (raw_bookings['reservation_status_date'].str.contains('2015-12-1'))]\n",
        "    ,x=\"reservation_status_date\"\n",
        "    ,hue=\"reservation_status\")"
      ],
      "metadata": {
        "id": "PNXvUcVk6ZEC"
      },
      "execution_count": null,
      "outputs": []
    },
    {
      "cell_type": "code",
      "source": [],
      "metadata": {
        "id": "SyHk6meUBMET"
      },
      "execution_count": null,
      "outputs": []
    }
  ]
}