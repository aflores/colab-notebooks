{
  "nbformat": 4,
  "nbformat_minor": 0,
  "metadata": {
    "colab": {
      "name": "gsheetrefug.ipynb",
      "provenance": [],
      "authorship_tag": "ABX9TyNfJerR1kn4khNUzRI5YY3v",
      "include_colab_link": true
    },
    "kernelspec": {
      "name": "python3",
      "display_name": "Python 3"
    }
  },
  "cells": [
    {
      "cell_type": "markdown",
      "metadata": {
        "id": "view-in-github",
        "colab_type": "text"
      },
      "source": [
        "<a href=\"https://colab.research.google.com/github/aflores/colab-notebooks/blob/master/gsheetrefug.ipynb\" target=\"_parent\"><img src=\"https://colab.research.google.com/assets/colab-badge.svg\" alt=\"Open In Colab\"/></a>"
      ]
    },
    {
      "cell_type": "markdown",
      "metadata": {
        "id": "AcJ5T1ZrURBf",
        "colab_type": "text"
      },
      "source": [
        "## Google Sheet refugee data generator\n",
        "\n",
        "This notebook was used to generate test data for the reportermate exercise\n",
        "Here are some of the this we did here:\n",
        "\n",
        "- Read data from a Google Sheets document\n",
        "- Used the above data to generate additional information (IRA -> PAK)\n",
        "  - Find/repalce the vaule of some 'string' columns\n",
        "  - Change the value of a couple numeric columns (lambda functions)\n",
        "- Concatenate the resulting DataFrames\n",
        "- Take a peek at the resulting data using a client-side pivot table\n",
        "- export the combined data as JSON and CSV"
      ]
    },
    {
      "cell_type": "code",
      "metadata": {
        "id": "KzJW5iO4Ik6e",
        "colab_type": "code",
        "colab": {}
      },
      "source": [
        "import gspread # https://gspread.readthedocs.io/en/latest/index.html\n",
        "import numpy as np\n",
        "import pandas as pd\n",
        "import matplotlib.pyplot as plt\n",
        "\n",
        "from google.colab import auth\n",
        "auth.authenticate_user()\n",
        "\n",
        "#import gspread\n",
        "from oauth2client.client import GoogleCredentials\n",
        "\n",
        "gc = gspread.authorize(GoogleCredentials.get_application_default())"
      ],
      "execution_count": 114,
      "outputs": []
    },
    {
      "cell_type": "code",
      "metadata": {
        "id": "Zw41eXn_I7Ck",
        "colab_type": "code",
        "colab": {}
      },
      "source": [
        "data_url = 'https://docs.google.com/spreadsheets/d/1LMB3gTs59_sbsHxzSMBujKDuuN55sWhSW2fERUO9a-8/edit?usp=sharing'"
      ],
      "execution_count": 115,
      "outputs": []
    },
    {
      "cell_type": "code",
      "metadata": {
        "id": "9FdWt9XfLuEu",
        "colab_type": "code",
        "colab": {}
      },
      "source": [
        "spreadsheet = gc.open_by_url(data_url)\n",
        "worksheet = spreadsheet.get_worksheet(0)"
      ],
      "execution_count": 116,
      "outputs": []
    },
    {
      "cell_type": "code",
      "metadata": {
        "id": "MSAbaTzUJMwk",
        "colab_type": "code",
        "colab": {}
      },
      "source": [
        "df = pd.DataFrame(worksheet.get_all_records())"
      ],
      "execution_count": 117,
      "outputs": []
    },
    {
      "cell_type": "code",
      "metadata": {
        "id": "9VOQ4hQ9NSj7",
        "colab_type": "code",
        "colab": {
          "base_uri": "https://localhost:8080/",
          "height": 204
        },
        "outputId": "d73c4f9b-898b-47ab-b019-56cb259366f7"
      },
      "source": [
        "df.head()"
      ],
      "execution_count": 118,
      "outputs": [
        {
          "output_type": "execute_result",
          "data": {
            "text/html": [
              "<div>\n",
              "<style scoped>\n",
              "    .dataframe tbody tr th:only-of-type {\n",
              "        vertical-align: middle;\n",
              "    }\n",
              "\n",
              "    .dataframe tbody tr th {\n",
              "        vertical-align: top;\n",
              "    }\n",
              "\n",
              "    .dataframe thead th {\n",
              "        text-align: right;\n",
              "    }\n",
              "</style>\n",
              "<table border=\"1\" class=\"dataframe\">\n",
              "  <thead>\n",
              "    <tr style=\"text-align: right;\">\n",
              "      <th></th>\n",
              "      <th>date</th>\n",
              "      <th>country</th>\n",
              "      <th>border</th>\n",
              "      <th>type</th>\n",
              "      <th>returns</th>\n",
              "      <th>assisted</th>\n",
              "    </tr>\n",
              "  </thead>\n",
              "  <tbody>\n",
              "    <tr>\n",
              "      <th>0</th>\n",
              "      <td>2019-01-01</td>\n",
              "      <td>IRA</td>\n",
              "      <td>Herat</td>\n",
              "      <td>spn</td>\n",
              "      <td>8000</td>\n",
              "      <td>300</td>\n",
              "    </tr>\n",
              "    <tr>\n",
              "      <th>1</th>\n",
              "      <td>2019-01-01</td>\n",
              "      <td>IRA</td>\n",
              "      <td>Herat</td>\n",
              "      <td>dept</td>\n",
              "      <td>6300</td>\n",
              "      <td>400</td>\n",
              "    </tr>\n",
              "    <tr>\n",
              "      <th>2</th>\n",
              "      <td>2019-01-01</td>\n",
              "      <td>IRA</td>\n",
              "      <td>Nimtoz</td>\n",
              "      <td>spn</td>\n",
              "      <td>3000</td>\n",
              "      <td>35</td>\n",
              "    </tr>\n",
              "    <tr>\n",
              "      <th>3</th>\n",
              "      <td>2019-01-01</td>\n",
              "      <td>IRA</td>\n",
              "      <td>Nimtoz</td>\n",
              "      <td>dept</td>\n",
              "      <td>6000</td>\n",
              "      <td>658</td>\n",
              "    </tr>\n",
              "    <tr>\n",
              "      <th>4</th>\n",
              "      <td>2019-02-01</td>\n",
              "      <td>IRA</td>\n",
              "      <td>Herat</td>\n",
              "      <td>spn</td>\n",
              "      <td>8000</td>\n",
              "      <td>300</td>\n",
              "    </tr>\n",
              "  </tbody>\n",
              "</table>\n",
              "</div>"
            ],
            "text/plain": [
              "         date country  border  type  returns  assisted\n",
              "0  2019-01-01     IRA   Herat   spn     8000       300\n",
              "1  2019-01-01     IRA   Herat  dept     6300       400\n",
              "2  2019-01-01     IRA  Nimtoz   spn     3000        35\n",
              "3  2019-01-01     IRA  Nimtoz  dept     6000       658\n",
              "4  2019-02-01     IRA   Herat   spn     8000       300"
            ]
          },
          "metadata": {
            "tags": []
          },
          "execution_count": 118
        }
      ]
    },
    {
      "cell_type": "code",
      "metadata": {
        "id": "nWNpjgf3OLgW",
        "colab_type": "code",
        "colab": {}
      },
      "source": [
        "# clone the data to create the PAK information\n",
        "df_pak = df.copy()\n",
        "\n",
        "# replace country and borders\n",
        "df_pak['country'] = 'PAK'\n",
        "df_pak.loc[(df_pak.border == 'Herat'),'border'] = 'Turkham' \n",
        "df_pak.loc[(df_pak.border == 'Nimtoz'),'border'] = 'Kandahar' \n",
        "\n",
        "# change the numbers\n",
        "df_pak['returns'] = df_pak['returns'].apply(lambda returns: np.floor(returns/7)) \n",
        "df_pak['assisted'] = df_pak['assisted'].apply(lambda assisted: np.floor(assisted/5))\n"
      ],
      "execution_count": 119,
      "outputs": []
    },
    {
      "cell_type": "code",
      "metadata": {
        "id": "QFIfPkxAhwfK",
        "colab_type": "code",
        "colab": {
          "base_uri": "https://localhost:8080/",
          "height": 328
        },
        "outputId": "e88187d4-7f03-43fa-ccab-20fcd82ed587"
      },
      "source": [
        "df_combo = pd.concat([df,df_pak],ignore_index=True)\n",
        "#df_combo.head(300)\n",
        "df_combo.groupby(['country','type','border']).sum()"
      ],
      "execution_count": 120,
      "outputs": [
        {
          "output_type": "execute_result",
          "data": {
            "text/html": [
              "<div>\n",
              "<style scoped>\n",
              "    .dataframe tbody tr th:only-of-type {\n",
              "        vertical-align: middle;\n",
              "    }\n",
              "\n",
              "    .dataframe tbody tr th {\n",
              "        vertical-align: top;\n",
              "    }\n",
              "\n",
              "    .dataframe thead th {\n",
              "        text-align: right;\n",
              "    }\n",
              "</style>\n",
              "<table border=\"1\" class=\"dataframe\">\n",
              "  <thead>\n",
              "    <tr style=\"text-align: right;\">\n",
              "      <th></th>\n",
              "      <th></th>\n",
              "      <th></th>\n",
              "      <th>returns</th>\n",
              "      <th>assisted</th>\n",
              "    </tr>\n",
              "    <tr>\n",
              "      <th>country</th>\n",
              "      <th>type</th>\n",
              "      <th>border</th>\n",
              "      <th></th>\n",
              "      <th></th>\n",
              "    </tr>\n",
              "  </thead>\n",
              "  <tbody>\n",
              "    <tr>\n",
              "      <th rowspan=\"4\" valign=\"top\">IRA</th>\n",
              "      <th rowspan=\"2\" valign=\"top\">dept</th>\n",
              "      <th>Herat</th>\n",
              "      <td>58300.0</td>\n",
              "      <td>3600.0</td>\n",
              "    </tr>\n",
              "    <tr>\n",
              "      <th>Nimtoz</th>\n",
              "      <td>54000.0</td>\n",
              "      <td>5922.0</td>\n",
              "    </tr>\n",
              "    <tr>\n",
              "      <th rowspan=\"2\" valign=\"top\">spn</th>\n",
              "      <th>Herat</th>\n",
              "      <td>71500.0</td>\n",
              "      <td>2700.0</td>\n",
              "    </tr>\n",
              "    <tr>\n",
              "      <th>Nimtoz</th>\n",
              "      <td>30000.0</td>\n",
              "      <td>350.0</td>\n",
              "    </tr>\n",
              "    <tr>\n",
              "      <th rowspan=\"4\" valign=\"top\">PAK</th>\n",
              "      <th rowspan=\"2\" valign=\"top\">dept</th>\n",
              "      <th>Kandahar</th>\n",
              "      <td>7713.0</td>\n",
              "      <td>1179.0</td>\n",
              "    </tr>\n",
              "    <tr>\n",
              "      <th>Turkham</th>\n",
              "      <td>8324.0</td>\n",
              "      <td>720.0</td>\n",
              "    </tr>\n",
              "    <tr>\n",
              "      <th rowspan=\"2\" valign=\"top\">spn</th>\n",
              "      <th>Kandahar</th>\n",
              "      <td>4280.0</td>\n",
              "      <td>70.0</td>\n",
              "    </tr>\n",
              "    <tr>\n",
              "      <th>Turkham</th>\n",
              "      <td>10207.0</td>\n",
              "      <td>540.0</td>\n",
              "    </tr>\n",
              "  </tbody>\n",
              "</table>\n",
              "</div>"
            ],
            "text/plain": [
              "                       returns  assisted\n",
              "country type border                     \n",
              "IRA     dept Herat     58300.0    3600.0\n",
              "             Nimtoz    54000.0    5922.0\n",
              "        spn  Herat     71500.0    2700.0\n",
              "             Nimtoz    30000.0     350.0\n",
              "PAK     dept Kandahar   7713.0    1179.0\n",
              "             Turkham    8324.0     720.0\n",
              "        spn  Kandahar   4280.0      70.0\n",
              "             Turkham   10207.0     540.0"
            ]
          },
          "metadata": {
            "tags": []
          },
          "execution_count": 120
        }
      ]
    },
    {
      "cell_type": "code",
      "metadata": {
        "id": "1yF9NgrHnE4C",
        "colab_type": "code",
        "colab": {
          "base_uri": "https://localhost:8080/",
          "height": 34
        },
        "outputId": "f8509c92-df83-4849-91f6-e7ab29e87cb3"
      },
      "source": [
        "!pip install pivottablejs\n",
        "\n",
        "from pivottablejs import pivot_ui\n",
        "from IPython.display import HTML\n",
        "from IPython.display import IFrame\n"
      ],
      "execution_count": 121,
      "outputs": [
        {
          "output_type": "stream",
          "text": [
            "Requirement already satisfied: pivottablejs in /usr/local/lib/python3.6/dist-packages (0.9.0)\n"
          ],
          "name": "stdout"
        }
      ]
    },
    {
      "cell_type": "code",
      "metadata": {
        "id": "HQHaspV2thfT",
        "colab_type": "code",
        "colab": {
          "base_uri": "https://localhost:8080/",
          "height": 401
        },
        "outputId": "0601b7b9-249b-4d58-96f9-f7d491184278"
      },
      "source": [
        "pivot_ui(df_combo, outfile_path='pivottablejs.html')\n",
        "HTML('pivottablejs.html')"
      ],
      "execution_count": 122,
      "outputs": [
        {
          "output_type": "execute_result",
          "data": {
            "text/html": [
              "\n",
              "<!DOCTYPE html>\n",
              "<html>\n",
              "    <head>\n",
              "        <meta charset=\"UTF-8\">\n",
              "        <title>PivotTable.js</title>\n",
              "\n",
              "        <!-- external libs from cdnjs -->\n",
              "        <link rel=\"stylesheet\" type=\"text/css\" href=\"https://cdnjs.cloudflare.com/ajax/libs/c3/0.4.11/c3.min.css\">\n",
              "        <script type=\"text/javascript\" src=\"https://cdnjs.cloudflare.com/ajax/libs/d3/3.5.5/d3.min.js\"></script>\n",
              "        <script type=\"text/javascript\" src=\"https://cdnjs.cloudflare.com/ajax/libs/c3/0.4.11/c3.min.js\"></script>\n",
              "        <script type=\"text/javascript\" src=\"https://cdnjs.cloudflare.com/ajax/libs/jquery/1.11.2/jquery.min.js\"></script>\n",
              "        <script type=\"text/javascript\" src=\"https://cdnjs.cloudflare.com/ajax/libs/jqueryui/1.11.4/jquery-ui.min.js\"></script>\n",
              "        <script type=\"text/javascript\" src=\"https://cdnjs.cloudflare.com/ajax/libs/jquery-csv/0.71/jquery.csv-0.71.min.js\"></script>\n",
              "\n",
              "\n",
              "        <link rel=\"stylesheet\" type=\"text/css\" href=\"https://cdnjs.cloudflare.com/ajax/libs/pivottable/2.19.0/pivot.min.css\">\n",
              "        <script type=\"text/javascript\" src=\"https://cdnjs.cloudflare.com/ajax/libs/pivottable/2.19.0/pivot.min.js\"></script>\n",
              "        <script type=\"text/javascript\" src=\"https://cdnjs.cloudflare.com/ajax/libs/pivottable/2.19.0/d3_renderers.min.js\"></script>\n",
              "        <script type=\"text/javascript\" src=\"https://cdnjs.cloudflare.com/ajax/libs/pivottable/2.19.0/c3_renderers.min.js\"></script>\n",
              "        <script type=\"text/javascript\" src=\"https://cdnjs.cloudflare.com/ajax/libs/pivottable/2.19.0/export_renderers.min.js\"></script>\n",
              "\n",
              "        <style>\n",
              "            body {font-family: Verdana;}\n",
              "            .node {\n",
              "              border: solid 1px white;\n",
              "              font: 10px sans-serif;\n",
              "              line-height: 12px;\n",
              "              overflow: hidden;\n",
              "              position: absolute;\n",
              "              text-indent: 2px;\n",
              "            }\n",
              "            .c3-line, .c3-focused {stroke-width: 3px !important;}\n",
              "            .c3-bar {stroke: white !important; stroke-width: 1;}\n",
              "            .c3 text { font-size: 12px; color: grey;}\n",
              "            .tick line {stroke: white;}\n",
              "            .c3-axis path {stroke: grey;}\n",
              "            .c3-circle { opacity: 1 !important; }\n",
              "            .c3-xgrid-focus {visibility: hidden !important;}\n",
              "        </style>\n",
              "    </head>\n",
              "    <body>\n",
              "        <script type=\"text/javascript\">\n",
              "            $(function(){\n",
              "                if(window.location != window.parent.location)\n",
              "                    $(\"<a>\", {target:\"_blank\", href:\"\"})\n",
              "                        .text(\"[pop out]\").prependTo($(\"body\"));\n",
              "\n",
              "                $(\"#output\").pivotUI(\n",
              "                    $.csv.toArrays($(\"#output\").text()),\n",
              "                    $.extend({\n",
              "                        renderers: $.extend(\n",
              "                            $.pivotUtilities.renderers,\n",
              "                            $.pivotUtilities.c3_renderers,\n",
              "                            $.pivotUtilities.d3_renderers,\n",
              "                            $.pivotUtilities.export_renderers\n",
              "                            ),\n",
              "                        hiddenAttributes: [\"\"]\n",
              "                    }, {})\n",
              "                ).show();\n",
              "             });\n",
              "        </script>\n",
              "        <div id=\"output\" style=\"display: none;\">,date,country,border,type,returns,assisted\n",
              "0,2019-01-01,IRA,Herat,spn,8000.0,300.0\n",
              "1,2019-01-01,IRA,Herat,dept,6300.0,400.0\n",
              "2,2019-01-01,IRA,Nimtoz,spn,3000.0,35.0\n",
              "3,2019-01-01,IRA,Nimtoz,dept,6000.0,658.0\n",
              "4,2019-02-01,IRA,Herat,spn,8000.0,300.0\n",
              "5,2019-02-01,IRA,Herat,dept,6500.0,400.0\n",
              "6,2019-02-01,IRA,Nimtoz,spn,3000.0,35.0\n",
              "7,2019-02-01,IRA,Nimtoz,dept,6000.0,658.0\n",
              "8,2019-02-01,IRA,Herat,spn,8000.0,300.0\n",
              "9,2019-02-01,IRA,Herat,dept,6500.0,400.0\n",
              "10,2019-01-10,IRA,Nimtoz,spn,3000.0,35.0\n",
              "11,2019-01-10,IRA,Nimtoz,dept,6000.0,658.0\n",
              "12,2019-01-10,IRA,Herat,spn,8000.0,300.0\n",
              "13,2019-01-10,IRA,Herat,dept,6500.0,400.0\n",
              "14,2019-01-10,IRA,Nimtoz,spn,3000.0,35.0\n",
              "15,2019-01-10,IRA,Nimtoz,dept,6000.0,658.0\n",
              "16,2019-02-10,IRA,Herat,spn,8000.0,300.0\n",
              "17,2019-02-10,IRA,Herat,dept,6500.0,400.0\n",
              "18,2019-02-10,IRA,Nimtoz,spn,3000.0,35.0\n",
              "19,2019-02-10,IRA,Nimtoz,dept,6000.0,658.0\n",
              "20,2019-02-10,IRA,Herat,spn,7500.0,300.0\n",
              "21,2019-02-10,IRA,Herat,dept,6500.0,400.0\n",
              "22,2019-02-10,IRA,Nimtoz,spn,3000.0,35.0\n",
              "23,2019-02-10,IRA,Nimtoz,dept,6000.0,658.0\n",
              "24,2019-01-20,IRA,Nimtoz,spn,3000.0,35.0\n",
              "25,2019-01-20,IRA,Nimtoz,dept,6000.0,658.0\n",
              "26,2019-01-20,IRA,Herat,spn,8000.0,300.0\n",
              "27,2019-01-20,IRA,Herat,dept,6500.0,400.0\n",
              "28,2019-01-20,IRA,Nimtoz,spn,3000.0,35.0\n",
              "29,2019-02-10,IRA,Nimtoz,dept,6000.0,658.0\n",
              "30,2019-03-10,IRA,Herat,spn,8000.0,300.0\n",
              "31,2019-03-10,IRA,Herat,dept,6500.0,400.0\n",
              "32,2019-03-10,IRA,Nimtoz,spn,3000.0,35.0\n",
              "33,2019-03-10,IRA,Nimtoz,dept,6000.0,658.0\n",
              "34,2019-03-10,IRA,Herat,spn,8000.0,300.0\n",
              "35,2019-03-10,IRA,Herat,dept,6500.0,400.0\n",
              "36,2019-03-10,IRA,Nimtoz,spn,3000.0,35.0\n",
              "37,2019-01-01,PAK,Turkham,spn,1142.0,60.0\n",
              "38,2019-01-01,PAK,Turkham,dept,900.0,80.0\n",
              "39,2019-01-01,PAK,Kandahar,spn,428.0,7.0\n",
              "40,2019-01-01,PAK,Kandahar,dept,857.0,131.0\n",
              "41,2019-02-01,PAK,Turkham,spn,1142.0,60.0\n",
              "42,2019-02-01,PAK,Turkham,dept,928.0,80.0\n",
              "43,2019-02-01,PAK,Kandahar,spn,428.0,7.0\n",
              "44,2019-02-01,PAK,Kandahar,dept,857.0,131.0\n",
              "45,2019-02-01,PAK,Turkham,spn,1142.0,60.0\n",
              "46,2019-02-01,PAK,Turkham,dept,928.0,80.0\n",
              "47,2019-01-10,PAK,Kandahar,spn,428.0,7.0\n",
              "48,2019-01-10,PAK,Kandahar,dept,857.0,131.0\n",
              "49,2019-01-10,PAK,Turkham,spn,1142.0,60.0\n",
              "50,2019-01-10,PAK,Turkham,dept,928.0,80.0\n",
              "51,2019-01-10,PAK,Kandahar,spn,428.0,7.0\n",
              "52,2019-01-10,PAK,Kandahar,dept,857.0,131.0\n",
              "53,2019-02-10,PAK,Turkham,spn,1142.0,60.0\n",
              "54,2019-02-10,PAK,Turkham,dept,928.0,80.0\n",
              "55,2019-02-10,PAK,Kandahar,spn,428.0,7.0\n",
              "56,2019-02-10,PAK,Kandahar,dept,857.0,131.0\n",
              "57,2019-02-10,PAK,Turkham,spn,1071.0,60.0\n",
              "58,2019-02-10,PAK,Turkham,dept,928.0,80.0\n",
              "59,2019-02-10,PAK,Kandahar,spn,428.0,7.0\n",
              "60,2019-02-10,PAK,Kandahar,dept,857.0,131.0\n",
              "61,2019-01-20,PAK,Kandahar,spn,428.0,7.0\n",
              "62,2019-01-20,PAK,Kandahar,dept,857.0,131.0\n",
              "63,2019-01-20,PAK,Turkham,spn,1142.0,60.0\n",
              "64,2019-01-20,PAK,Turkham,dept,928.0,80.0\n",
              "65,2019-01-20,PAK,Kandahar,spn,428.0,7.0\n",
              "66,2019-02-10,PAK,Kandahar,dept,857.0,131.0\n",
              "67,2019-03-10,PAK,Turkham,spn,1142.0,60.0\n",
              "68,2019-03-10,PAK,Turkham,dept,928.0,80.0\n",
              "69,2019-03-10,PAK,Kandahar,spn,428.0,7.0\n",
              "70,2019-03-10,PAK,Kandahar,dept,857.0,131.0\n",
              "71,2019-03-10,PAK,Turkham,spn,1142.0,60.0\n",
              "72,2019-03-10,PAK,Turkham,dept,928.0,80.0\n",
              "73,2019-03-10,PAK,Kandahar,spn,428.0,7.0\n",
              "</div>\n",
              "    </body>\n",
              "</html>\n"
            ],
            "text/plain": [
              "<IPython.core.display.HTML object>"
            ]
          },
          "metadata": {
            "tags": []
          },
          "execution_count": 122
        }
      ]
    },
    {
      "cell_type": "code",
      "metadata": {
        "id": "qpYKXYM6tozJ",
        "colab_type": "code",
        "colab": {
          "base_uri": "https://localhost:8080/",
          "height": 137
        },
        "outputId": "5e349e32-2c35-4eda-e26e-f6beae15eadb"
      },
      "source": [
        "#df_combo.to_json(orient='records')\n",
        "df_combo.to_csv(index=False)"
      ],
      "execution_count": 127,
      "outputs": [
        {
          "output_type": "execute_result",
          "data": {
            "application/vnd.google.colaboratory.intrinsic+json": {
              "type": "string"
            },
            "text/plain": [
              "'date,country,border,type,returns,assisted\\n2019-01-01,IRA,Herat,spn,8000.0,300.0\\n2019-01-01,IRA,Herat,dept,6300.0,400.0\\n2019-01-01,IRA,Nimtoz,spn,3000.0,35.0\\n2019-01-01,IRA,Nimtoz,dept,6000.0,658.0\\n2019-02-01,IRA,Herat,spn,8000.0,300.0\\n2019-02-01,IRA,Herat,dept,6500.0,400.0\\n2019-02-01,IRA,Nimtoz,spn,3000.0,35.0\\n2019-02-01,IRA,Nimtoz,dept,6000.0,658.0\\n2019-02-01,IRA,Herat,spn,8000.0,300.0\\n2019-02-01,IRA,Herat,dept,6500.0,400.0\\n2019-01-10,IRA,Nimtoz,spn,3000.0,35.0\\n2019-01-10,IRA,Nimtoz,dept,6000.0,658.0\\n2019-01-10,IRA,Herat,spn,8000.0,300.0\\n2019-01-10,IRA,Herat,dept,6500.0,400.0\\n2019-01-10,IRA,Nimtoz,spn,3000.0,35.0\\n2019-01-10,IRA,Nimtoz,dept,6000.0,658.0\\n2019-02-10,IRA,Herat,spn,8000.0,300.0\\n2019-02-10,IRA,Herat,dept,6500.0,400.0\\n2019-02-10,IRA,Nimtoz,spn,3000.0,35.0\\n2019-02-10,IRA,Nimtoz,dept,6000.0,658.0\\n2019-02-10,IRA,Herat,spn,7500.0,300.0\\n2019-02-10,IRA,Herat,dept,6500.0,400.0\\n2019-02-10,IRA,Nimtoz,spn,3000.0,35.0\\n2019-02-10,IRA,Nimtoz,dept,6000.0,658.0\\n2019-01-20,IRA,Nimtoz,spn,3000.0,35.0\\n2019-01-20,IRA,Nimtoz,dept,6000.0,658.0\\n2019-01-20,IRA,Herat,spn,8000.0,300.0\\n2019-01-20,IRA,Herat,dept,6500.0,400.0\\n2019-01-20,IRA,Nimtoz,spn,3000.0,35.0\\n2019-02-10,IRA,Nimtoz,dept,6000.0,658.0\\n2019-03-10,IRA,Herat,spn,8000.0,300.0\\n2019-03-10,IRA,Herat,dept,6500.0,400.0\\n2019-03-10,IRA,Nimtoz,spn,3000.0,35.0\\n2019-03-10,IRA,Nimtoz,dept,6000.0,658.0\\n2019-03-10,IRA,Herat,spn,8000.0,300.0\\n2019-03-10,IRA,Herat,dept,6500.0,400.0\\n2019-03-10,IRA,Nimtoz,spn,3000.0,35.0\\n2019-01-01,PAK,Turkham,spn,1142.0,60.0\\n2019-01-01,PAK,Turkham,dept,900.0,80.0\\n2019-01-01,PAK,Kandahar,spn,428.0,7.0\\n2019-01-01,PAK,Kandahar,dept,857.0,131.0\\n2019-02-01,PAK,Turkham,spn,1142.0,60.0\\n2019-02-01,PAK,Turkham,dept,928.0,80.0\\n2019-02-01,PAK,Kandahar,spn,428.0,7.0\\n2019-02-01,PAK,Kandahar,dept,857.0,131.0\\n2019-02-01,PAK,Turkham,spn,1142.0,60.0\\n2019-02-01,PAK,Turkham,dept,928.0,80.0\\n2019-01-10,PAK,Kandahar,spn,428.0,7.0\\n2019-01-10,PAK,Kandahar,dept,857.0,131.0\\n2019-01-10,PAK,Turkham,spn,1142.0,60.0\\n2019-01-10,PAK,Turkham,dept,928.0,80.0\\n2019-01-10,PAK,Kandahar,spn,428.0,7.0\\n2019-01-10,PAK,Kandahar,dept,857.0,131.0\\n2019-02-10,PAK,Turkham,spn,1142.0,60.0\\n2019-02-10,PAK,Turkham,dept,928.0,80.0\\n2019-02-10,PAK,Kandahar,spn,428.0,7.0\\n2019-02-10,PAK,Kandahar,dept,857.0,131.0\\n2019-02-10,PAK,Turkham,spn,1071.0,60.0\\n2019-02-10,PAK,Turkham,dept,928.0,80.0\\n2019-02-10,PAK,Kandahar,spn,428.0,7.0\\n2019-02-10,PAK,Kandahar,dept,857.0,131.0\\n2019-01-20,PAK,Kandahar,spn,428.0,7.0\\n2019-01-20,PAK,Kandahar,dept,857.0,131.0\\n2019-01-20,PAK,Turkham,spn,1142.0,60.0\\n2019-01-20,PAK,Turkham,dept,928.0,80.0\\n2019-01-20,PAK,Kandahar,spn,428.0,7.0\\n2019-02-10,PAK,Kandahar,dept,857.0,131.0\\n2019-03-10,PAK,Turkham,spn,1142.0,60.0\\n2019-03-10,PAK,Turkham,dept,928.0,80.0\\n2019-03-10,PAK,Kandahar,spn,428.0,7.0\\n2019-03-10,PAK,Kandahar,dept,857.0,131.0\\n2019-03-10,PAK,Turkham,spn,1142.0,60.0\\n2019-03-10,PAK,Turkham,dept,928.0,80.0\\n2019-03-10,PAK,Kandahar,spn,428.0,7.0\\n'"
            ]
          },
          "metadata": {
            "tags": []
          },
          "execution_count": 127
        }
      ]
    },
    {
      "cell_type": "code",
      "metadata": {
        "id": "thzV9kEf0vln",
        "colab_type": "code",
        "colab": {}
      },
      "source": [
        ""
      ],
      "execution_count": 123,
      "outputs": []
    }
  ]
}