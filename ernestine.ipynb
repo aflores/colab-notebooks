{
  "nbformat": 4,
  "nbformat_minor": 0,
  "metadata": {
    "colab": {
      "provenance": [],
      "mount_file_id": "1DMb1I3JAPdwx-niGcMgY4YQ8ZzNeeT2C",
      "authorship_tag": "ABX9TyMVT03Hl/Vr5AqMHQUipJgf",
      "include_colab_link": true
    },
    "kernelspec": {
      "name": "python3",
      "display_name": "Python 3"
    },
    "language_info": {
      "name": "python"
    }
  },
  "cells": [
    {
      "cell_type": "markdown",
      "metadata": {
        "id": "view-in-github",
        "colab_type": "text"
      },
      "source": [
        "<a href=\"https://colab.research.google.com/github/aflores/colab-notebooks/blob/master/ernestine.ipynb\" target=\"_parent\"><img src=\"https://colab.research.google.com/assets/colab-badge.svg\" alt=\"Open In Colab\"/></a>"
      ]
    },
    {
      "cell_type": "markdown",
      "source": [
        "# Housekeeping"
      ],
      "metadata": {
        "id": "kzdld03VkypV"
      }
    },
    {
      "cell_type": "markdown",
      "source": [
        "```\n",
        "# if needed, mount google drive \n",
        "from google.colab import drive\n",
        "  drive.mount('/content/drive'\n",
        "```"
      ],
      "metadata": {
        "id": "Lsm_1OqOlNhW"
      }
    },
    {
      "cell_type": "code",
      "execution_count": null,
      "metadata": {
        "id": "-0-xCdypjQPR"
      },
      "outputs": [],
      "source": [
        "# the order might be relevant as there were some up/down-grading message\n",
        "!pip install langchain llama_index openai"
      ]
    },
    {
      "cell_type": "code",
      "source": [
        "import os\n",
        "import json\n",
        "\n",
        "data_path = './drive/MyDrive/Colab Data/ernestine/'\n",
        "\n",
        "keys_file = f\"{data_path}keys.json\"\n",
        "with open(keys_file) as f:\n",
        "   keys = json.load(f)\n",
        "# print(keys)\n",
        "# print(keys['OPENAI_API_KEY'])\n",
        "\n",
        "os.environ[\"OPENAI_API_KEY\"] = keys['OPENAI_API_KEY_GPT4']"
      ],
      "metadata": {
        "id": "OS8LhUD-mDgF"
      },
      "execution_count": null,
      "outputs": []
    },
    {
      "cell_type": "code",
      "source": [
        "# imports\n",
        "from langchain.llms import OpenAI\n",
        "from langchain.prompts import PromptTemplate, LLMChain\n",
        "\n",
        "from langchain.chat_models import ChatOpenAI\n",
        "from langchain.schema import HumanMessage\n"
      ],
      "metadata": {
        "id": "7AXOBIdmAuMA"
      },
      "execution_count": null,
      "outputs": []
    },
    {
      "cell_type": "code",
      "source": [
        "llm = OpenAI(temperature=0.7, model_name=\"gpt-3.5-turbo\")\n",
        "text = \"These are the top 5 movies of each of the last 5 years as a JSON file\"\n",
        "print(llm(text))"
      ],
      "metadata": {
        "colab": {
          "base_uri": "https://localhost:8080/"
        },
        "id": "shgYMNHXCYv6",
        "outputId": "eff15a56-c913-4458-d537-fb67244d5cbf"
      },
      "execution_count": 100,
      "outputs": [
        {
          "output_type": "stream",
          "name": "stdout",
          "text": [
            "{\n",
            "  \"2016\": {\n",
            "    \"1\": \"La La Land\",\n",
            "    \"2\": \"Moonlight\",\n",
            "    \"3\": \"Manchester by the Sea\",\n",
            "    \"4\": \"Arrival\",\n",
            "    \"5\": \"Hell or High Water\"\n",
            "  },\n",
            "  \"2017\": {\n",
            "    \"1\": \"Get Out\",\n",
            "    \"2\": \"Dunkirk\",\n",
            "    \"3\": \"Lady Bird\",\n",
            "    \"4\": \"The Shape of Water\",\n",
            "    \"5\": \"Call Me by Your Name\"\n",
            "  },\n",
            "  \"2018\": {\n",
            "    \"1\": \"Roma\",\n",
            "    \"2\": \"Green Book\",\n",
            "    \"3\": \"BlacKkKlansman\",\n",
            "    \"4\": \"Bohemian Rhapsody\",\n",
            "    \"5\": \"The Favourite\"\n",
            "  },\n",
            "  \"2019\": {\n",
            "    \"1\": \"Parasite\",\n",
            "    \"2\": \"1917\",\n",
            "    \"3\": \"Joker\",\n",
            "    \"4\": \"Once Upon a Time in Hollywood\",\n",
            "    \"5\": \"The Irishman\"\n",
            "  },\n",
            "  \"2020\": {\n",
            "    \"1\": \"Nomadland\",\n",
            "    \"2\": \"The Trial of the Chicago 7\",\n",
            "    \"3\": \"Minari\",\n",
            "    \"4\": \"Sound of Metal\",\n",
            "    \"5\": \"Promising Young Woman\"\n",
            "  }\n",
            "}\n"
          ]
        }
      ]
    },
    {
      "cell_type": "code",
      "source": [
        "result = llm.generate([\"Exercise routine for legs\"])"
      ],
      "metadata": {
        "id": "VaUUxAz6Olu8"
      },
      "execution_count": 92,
      "outputs": []
    },
    {
      "cell_type": "code",
      "source": [
        "# print(len(result.generations))\n",
        "print(result.generations[0][0].text)\n",
        "print(f\"{'- - '*20}\\n{result.llm_output}\\n{'- - '*20}\")"
      ],
      "metadata": {
        "colab": {
          "base_uri": "https://localhost:8080/"
        },
        "id": "Rc6YdpC1PPnc",
        "outputId": "593d1a82-6bb2-4a6e-8a43-de79b89dace1"
      },
      "execution_count": 94,
      "outputs": [
        {
          "output_type": "stream",
          "name": "stdout",
          "text": [
            "Here is an exercise routine for legs:\n",
            "\n",
            "1. Squats: Stand with your feet shoulder-width apart and your toes pointing forward. Bend your knees and lower your body as if you're sitting on a chair. Keep your back straight and your chest up. Do 3 sets of 10-12 repetitions.\n",
            "\n",
            "2. Lunges: Stand with your feet hip-width apart. Step forward with your right foot and lower your body until your right thigh is parallel to the floor. Keep your left foot in place. Push back up and repeat with your left foot. Do 3 sets of 10-12 repetitions.\n",
            "\n",
            "3. Deadlifts: Stand with your feet shoulder-width apart. Hold a barbell or dumbbells in front of your thighs with an overhand grip. Bend forward from your hips, keeping your back straight and your chest up. Lower the weight as far as you can while keeping your legs straight. Lift the weight back up to the starting position. Do 3 sets of 10-12 repetitions.\n",
            "\n",
            "4. Calf raises: Stand on the edge of a step with your heels hanging off. Rise up onto your tiptoes as high as you can. Lower your heels back down below the step. Do 3 sets of 20-25 repetitions.\n",
            "\n",
            "5. Glute bridge: Lie on your back with your knees bent and your feet flat on the floor. Lift your hips up towards the ceiling, squeezing your glutes. Lower your hips back down to the floor. Do 3 sets of 10-12 repetitions.\n",
            "\n",
            "Remember to warm up before starting the routine and stretch afterwards to prevent injury. As always, consult with a qualified fitness professional before starting any new exercise routine.\n",
            "- - - - - - - - - - - - - - - - - - - - - - - - - - - - - - - - - - - - - - - - \n",
            "{'token_usage': <OpenAIObject at 0x7f9109132cc0> JSON: {\n",
            "  \"completion_tokens\": 529,\n",
            "  \"prompt_tokens\": 12,\n",
            "  \"total_tokens\": 541\n",
            "}, 'model_name': 'gpt-3.5-turbo'}\n",
            "- - - - - - - - - - - - - - - - - - - - - - - - - - - - - - - - - - - - - - - - \n"
          ]
        }
      ]
    },
    {
      "cell_type": "code",
      "source": [
        "# Chat\n",
        "chat = ChatOpenAI(temperature=0.9, model_name=\"gpt-3.5-turbo\")"
      ],
      "metadata": {
        "id": "bHtHfPKs09dz"
      },
      "execution_count": 105,
      "outputs": []
    },
    {
      "cell_type": "code",
      "source": [
        "text = \"These are the top three tourist destinations in Istanbul\"\n",
        "msg = [HumanMessage(content=text)]\n",
        "print(chat(msg).content)"
      ],
      "metadata": {
        "colab": {
          "base_uri": "https://localhost:8080/"
        },
        "id": "UfCEvZTq1miU",
        "outputId": "cd717454-2db5-4105-b3a9-e5cfd3786580"
      },
      "execution_count": 113,
      "outputs": [
        {
          "output_type": "stream",
          "name": "stdout",
          "text": [
            "1. Hagia Sophia: This 6th-century Byzantine church turned Ottoman mosque turned museum is one of Istanbul's most iconic landmarks. With its impressive dome and intricate mosaics and frescoes, it offers a fascinating glimpse into the city's rich history.\n",
            "\n",
            "2. Topkapi Palace: The former residence of the Ottoman sultans, Topkapi Palace is a sprawling complex of courtyards, pavilions, and museums. Highlights include the Harem, the Imperial Treasury, and the famous Spoonmaker's Diamond.\n",
            "\n",
            "3. The Blue Mosque: Also known as the Sultan Ahmed Mosque, this 17th-century masterpiece was commissioned by Sultan Ahmed I and is famous for its stunning blue tiles and six minarets. Visitors can admire the mosque's intricate architecture and explore its beautiful courtyard and interior.\n"
          ]
        }
      ]
    },
    {
      "cell_type": "code",
      "source": [
        "# Using templates\n",
        "multiple_input_prompt = PromptTemplate(\n",
        "    input_variables=[\"number\", \"site\"], \n",
        "    template=\"These are the top {number} tourist destinations in {site} in spanish as a JSON file.\")\n",
        "\n",
        "msg = multiple_input_prompt.format(number=\"three\", site=\"Bogota\")\n",
        "\n",
        "print(llm(msg))"
      ],
      "metadata": {
        "colab": {
          "base_uri": "https://localhost:8080/"
        },
        "id": "tyUzRhyE1qWF",
        "outputId": "23e68b0b-c588-4f88-d9b5-a79ca4fba746"
      },
      "execution_count": 119,
      "outputs": [
        {
          "output_type": "stream",
          "name": "stdout",
          "text": [
            "{\n",
            "  \"destinations\": [\n",
            "    {\n",
            "      \"nombre\": \"Museo del Oro\",\n",
            "      \"descripcion\": \"El Museo del Oro de Bogotá es una de las atracciones turísticas más populares de la ciudad. El museo alberga una impresionante colección de artefactos de oro precolombino y es una excelente manera de aprender sobre la historia y la cultura de Colombia.\",\n",
            "      \"direccion\": \"Carrera 6 # 15-88\",\n",
            "      \"horario\": \"Lunes a domingo, 10:00 a.m. a 6:00 p.m.\",\n",
            "      \"precio\": \"Entrada general: $4 USD\"\n",
            "    },\n",
            "    {\n",
            "      \"nombre\": \"Montserrate\",\n",
            "      \"descripcion\": \"Montserrate es una montaña ubicada en el centro de Bogotá que ofrece vistas impresionantes de la ciudad. Los visitantes pueden llegar a la cima en teleférico o funicular y disfrutar de la vista panorámica. En la cima también hay una iglesia y varios restaurantes.\",\n",
            "      \"direccion\": \"Calle 17 # 2-51\",\n",
            "      \"horario\": \"Lunes a domingo, 6:30 a.m. a 11:45 p.m.\",\n",
            "      \"precio\": \"Teleférico o funicular: $8 USD\"\n",
            "    },\n",
            "    {\n",
            "      \"nombre\": \"La Candelaria\",\n",
            "      \"descripcion\": \"La Candelaria es el barrio histórico de Bogotá y es conocido por sus hermosas casas coloniales, calles empedradas y sitios culturales. Los visitantes pueden explorar la Plaza de Bolívar, el Palacio de Nariño y el Museo Botero, entre otros sitios.\",\n",
            "      \"direccion\": \"Barrio La Candelaria\",\n",
            "      \"horario\": \"Abierto las 24 horas\",\n",
            "      \"precio\": \"Gratis\"\n",
            "    }\n",
            "  ]\n",
            "}\n"
          ]
        }
      ]
    },
    {
      "cell_type": "code",
      "source": [
        "msg = multiple_input_prompt.format(number=\"3\", site=\"Monaco\")\n",
        "\n",
        "print(llm(msg))"
      ],
      "metadata": {
        "colab": {
          "base_uri": "https://localhost:8080/"
        },
        "id": "H2sCb5qqx2Y4",
        "outputId": "6330a739-50ce-4762-f03c-c6f7692a3a59"
      },
      "execution_count": 118,
      "outputs": [
        {
          "output_type": "stream",
          "name": "stdout",
          "text": [
            "[\n",
            "  {\n",
            "    \"destino\": \"Monte Carlo Casino\",\n",
            "    \"descripcion\": \"El Casino de Monte Carlo es uno de los lugares más emblemáticos de Mónaco. Famoso por su arquitectura impresionante y su larga historia, el casino ha sido el lugar de reunión de los ricos y famosos durante más de un siglo.\",\n",
            "    \"imagen\": \"https://upload.wikimedia.org/wikipedia/commons/thumb/1/1d/Monte_Carlo_Casino_02.jpg/320px-Monte_Carlo_Casino_02.jpg\"\n",
            "  },\n",
            "  {\n",
            "    \"destino\": \"Palacio del Príncipe\",\n",
            "    \"descripcion\": \"El Palacio del Príncipe es la residencia oficial del príncipe de Mónaco. Construido en el siglo XIII, el palacio cuenta con impresionantes vistas del puerto y de la ciudad. Los visitantes pueden hacer una visita guiada y ver las hermosas habitaciones y jardines.\",\n",
            "    \"imagen\": \"https://upload.wikimedia.org/wikipedia/commons/2/27/Palais_Princier_de_Monaco.jpg\"\n",
            "  },\n",
            "  {\n",
            "    \"destino\": \"Catedral de Mónaco\",\n",
            "    \"descripcion\": \"La Catedral de Mónaco es una iglesia neorrománica construida en el siglo XIX. Es el lugar de enterramiento de la familia real de Mónaco, incluyendo a la princesa Grace Kelly. Los visitantes pueden ver la hermosa arquitectura y las vidrieras de colores.\",\n",
            "    \"imagen\": \"https://upload.wikimedia.org/wikipedia/commons/thumb/2/2f/Cath%C3%A9drale_de_Monaco.JPG/320px-Cath%C3%A9drale_de_Monaco.JPG\"\n",
            "  }\n",
            "]\n"
          ]
        }
      ]
    },
    {
      "cell_type": "code",
      "source": [],
      "metadata": {
        "id": "8yX2ghIF3DRq"
      },
      "execution_count": null,
      "outputs": []
    }
  ]
}