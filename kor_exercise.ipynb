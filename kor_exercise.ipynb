{
  "nbformat": 4,
  "nbformat_minor": 0,
  "metadata": {
    "colab": {
      "provenance": [],
      "mount_file_id": "1OjZWrtK33xHSCWZQjosnZlleKEQmm9-m",
      "authorship_tag": "ABX9TyM5DjN0rkH/fNLUlP9qgJjS",
      "include_colab_link": true
    },
    "kernelspec": {
      "name": "python3",
      "display_name": "Python 3"
    },
    "language_info": {
      "name": "python"
    }
  },
  "cells": [
    {
      "cell_type": "markdown",
      "metadata": {
        "id": "view-in-github",
        "colab_type": "text"
      },
      "source": [
        "<a href=\"https://colab.research.google.com/github/aflores/colab-notebooks/blob/master/kor_exercise.ipynb\" target=\"_parent\"><img src=\"https://colab.research.google.com/assets/colab-badge.svg\" alt=\"Open In Colab\"/></a>"
      ]
    },
    {
      "cell_type": "markdown",
      "source": [
        "# Working with the KOR llm library"
      ],
      "metadata": {
        "id": "iGl2z7H5ESI9"
      }
    },
    {
      "cell_type": "code",
      "execution_count": null,
      "metadata": {
        "colab": {
          "base_uri": "https://localhost:8080/"
        },
        "id": "RwGWlBd4DTHT",
        "outputId": "fcec531b-ac63-4c8a-d8a0-f32426ab2796"
      },
      "outputs": [
        {
          "output_type": "stream",
          "name": "stdout",
          "text": [
            "Overwriting requirements.txt\n"
          ]
        }
      ],
      "source": [
        "%%writefile requirements.txt\n",
        "pdfminer.six\n",
        "openai\n",
        "langchain\n",
        "kor\n"
      ]
    },
    {
      "cell_type": "code",
      "source": [
        "!pip install -r requirements.txt"
      ],
      "metadata": {
        "colab": {
          "base_uri": "https://localhost:8080/"
        },
        "id": "cDi0WuPIFC5W",
        "outputId": "ae9e68b5-8479-464e-8b1e-b8a5b6514399"
      },
      "execution_count": null,
      "outputs": [
        {
          "output_type": "stream",
          "name": "stdout",
          "text": [
            "Looking in indexes: https://pypi.org/simple, https://us-python.pkg.dev/colab-wheels/public/simple/\n",
            "Requirement already satisfied: pdfminer.six in /usr/local/lib/python3.10/dist-packages (from -r requirements.txt (line 1)) (20221105)\n",
            "Requirement already satisfied: openai in /usr/local/lib/python3.10/dist-packages (from -r requirements.txt (line 2)) (0.27.8)\n",
            "Requirement already satisfied: langchain in /usr/local/lib/python3.10/dist-packages (from -r requirements.txt (line 3)) (0.0.197)\n",
            "Requirement already satisfied: kor in /usr/local/lib/python3.10/dist-packages (from -r requirements.txt (line 4)) (0.10.0)\n",
            "Requirement already satisfied: charset-normalizer>=2.0.0 in /usr/local/lib/python3.10/dist-packages (from pdfminer.six->-r requirements.txt (line 1)) (2.0.12)\n",
            "Requirement already satisfied: cryptography>=36.0.0 in /usr/local/lib/python3.10/dist-packages (from pdfminer.six->-r requirements.txt (line 1)) (40.0.2)\n",
            "Requirement already satisfied: requests>=2.20 in /usr/local/lib/python3.10/dist-packages (from openai->-r requirements.txt (line 2)) (2.27.1)\n",
            "Requirement already satisfied: tqdm in /usr/local/lib/python3.10/dist-packages (from openai->-r requirements.txt (line 2)) (4.65.0)\n",
            "Requirement already satisfied: aiohttp in /usr/local/lib/python3.10/dist-packages (from openai->-r requirements.txt (line 2)) (3.8.4)\n",
            "Requirement already satisfied: PyYAML>=5.4.1 in /usr/local/lib/python3.10/dist-packages (from langchain->-r requirements.txt (line 3)) (6.0)\n",
            "Requirement already satisfied: SQLAlchemy<3,>=1.4 in /usr/local/lib/python3.10/dist-packages (from langchain->-r requirements.txt (line 3)) (2.0.10)\n",
            "Requirement already satisfied: async-timeout<5.0.0,>=4.0.0 in /usr/local/lib/python3.10/dist-packages (from langchain->-r requirements.txt (line 3)) (4.0.2)\n",
            "Requirement already satisfied: dataclasses-json<0.6.0,>=0.5.7 in /usr/local/lib/python3.10/dist-packages (from langchain->-r requirements.txt (line 3)) (0.5.8)\n",
            "Requirement already satisfied: langchainplus-sdk>=0.0.7 in /usr/local/lib/python3.10/dist-packages (from langchain->-r requirements.txt (line 3)) (0.0.8)\n",
            "Requirement already satisfied: numexpr<3.0.0,>=2.8.4 in /usr/local/lib/python3.10/dist-packages (from langchain->-r requirements.txt (line 3)) (2.8.4)\n",
            "Requirement already satisfied: numpy<2,>=1 in /usr/local/lib/python3.10/dist-packages (from langchain->-r requirements.txt (line 3)) (1.22.4)\n",
            "Requirement already satisfied: openapi-schema-pydantic<2.0,>=1.2 in /usr/local/lib/python3.10/dist-packages (from langchain->-r requirements.txt (line 3)) (1.2.4)\n",
            "Requirement already satisfied: pydantic<2,>=1 in /usr/local/lib/python3.10/dist-packages (from langchain->-r requirements.txt (line 3)) (1.10.7)\n",
            "Requirement already satisfied: tenacity<9.0.0,>=8.1.0 in /usr/local/lib/python3.10/dist-packages (from langchain->-r requirements.txt (line 3)) (8.2.2)\n",
            "Requirement already satisfied: pandas<2.0.0,>=1.5.3 in /usr/local/lib/python3.10/dist-packages (from kor->-r requirements.txt (line 4)) (1.5.3)\n",
            "Requirement already satisfied: attrs>=17.3.0 in /usr/local/lib/python3.10/dist-packages (from aiohttp->openai->-r requirements.txt (line 2)) (23.1.0)\n",
            "Requirement already satisfied: multidict<7.0,>=4.5 in /usr/local/lib/python3.10/dist-packages (from aiohttp->openai->-r requirements.txt (line 2)) (6.0.4)\n",
            "Requirement already satisfied: yarl<2.0,>=1.0 in /usr/local/lib/python3.10/dist-packages (from aiohttp->openai->-r requirements.txt (line 2)) (1.9.2)\n",
            "Requirement already satisfied: frozenlist>=1.1.1 in /usr/local/lib/python3.10/dist-packages (from aiohttp->openai->-r requirements.txt (line 2)) (1.3.3)\n",
            "Requirement already satisfied: aiosignal>=1.1.2 in /usr/local/lib/python3.10/dist-packages (from aiohttp->openai->-r requirements.txt (line 2)) (1.3.1)\n",
            "Requirement already satisfied: cffi>=1.12 in /usr/local/lib/python3.10/dist-packages (from cryptography>=36.0.0->pdfminer.six->-r requirements.txt (line 1)) (1.15.1)\n",
            "Requirement already satisfied: marshmallow<4.0.0,>=3.3.0 in /usr/local/lib/python3.10/dist-packages (from dataclasses-json<0.6.0,>=0.5.7->langchain->-r requirements.txt (line 3)) (3.19.0)\n",
            "Requirement already satisfied: marshmallow-enum<2.0.0,>=1.5.1 in /usr/local/lib/python3.10/dist-packages (from dataclasses-json<0.6.0,>=0.5.7->langchain->-r requirements.txt (line 3)) (1.5.1)\n",
            "Requirement already satisfied: typing-inspect>=0.4.0 in /usr/local/lib/python3.10/dist-packages (from dataclasses-json<0.6.0,>=0.5.7->langchain->-r requirements.txt (line 3)) (0.9.0)\n",
            "Requirement already satisfied: python-dateutil>=2.8.1 in /usr/local/lib/python3.10/dist-packages (from pandas<2.0.0,>=1.5.3->kor->-r requirements.txt (line 4)) (2.8.2)\n",
            "Requirement already satisfied: pytz>=2020.1 in /usr/local/lib/python3.10/dist-packages (from pandas<2.0.0,>=1.5.3->kor->-r requirements.txt (line 4)) (2022.7.1)\n",
            "Requirement already satisfied: typing-extensions>=4.2.0 in /usr/local/lib/python3.10/dist-packages (from pydantic<2,>=1->langchain->-r requirements.txt (line 3)) (4.5.0)\n",
            "Requirement already satisfied: urllib3<1.27,>=1.21.1 in /usr/local/lib/python3.10/dist-packages (from requests>=2.20->openai->-r requirements.txt (line 2)) (1.26.15)\n",
            "Requirement already satisfied: certifi>=2017.4.17 in /usr/local/lib/python3.10/dist-packages (from requests>=2.20->openai->-r requirements.txt (line 2)) (2022.12.7)\n",
            "Requirement already satisfied: idna<4,>=2.5 in /usr/local/lib/python3.10/dist-packages (from requests>=2.20->openai->-r requirements.txt (line 2)) (3.4)\n",
            "Requirement already satisfied: greenlet!=0.4.17 in /usr/local/lib/python3.10/dist-packages (from SQLAlchemy<3,>=1.4->langchain->-r requirements.txt (line 3)) (2.0.2)\n",
            "Requirement already satisfied: pycparser in /usr/local/lib/python3.10/dist-packages (from cffi>=1.12->cryptography>=36.0.0->pdfminer.six->-r requirements.txt (line 1)) (2.21)\n",
            "Requirement already satisfied: packaging>=17.0 in /usr/local/lib/python3.10/dist-packages (from marshmallow<4.0.0,>=3.3.0->dataclasses-json<0.6.0,>=0.5.7->langchain->-r requirements.txt (line 3)) (23.1)\n",
            "Requirement already satisfied: six>=1.5 in /usr/local/lib/python3.10/dist-packages (from python-dateutil>=2.8.1->pandas<2.0.0,>=1.5.3->kor->-r requirements.txt (line 4)) (1.16.0)\n",
            "Requirement already satisfied: mypy-extensions>=0.3.0 in /usr/local/lib/python3.10/dist-packages (from typing-inspect>=0.4.0->dataclasses-json<0.6.0,>=0.5.7->langchain->-r requirements.txt (line 3)) (1.0.0)\n"
          ]
        }
      ]
    },
    {
      "cell_type": "code",
      "source": [
        "import os\n",
        "import json\n",
        "data_path = './drive/MyDrive/Colab Data/kor/'\n",
        "\n",
        "keys_file = f\"{data_path}keys.json\"\n",
        "with open(keys_file) as f:\n",
        "   keys = json.load(f)\n",
        "\n",
        "os.environ[\"OPENAI_API_KEY\"] = keys['OPENAI_API_KEY']"
      ],
      "metadata": {
        "id": "HkJhFKNnFX8S"
      },
      "execution_count": null,
      "outputs": []
    },
    {
      "cell_type": "code",
      "source": [
        "#import extract_text module from PDF Miner and extract text\n",
        "from pdfminer.high_level import extract_text\n",
        "text = extract_text(f'{data_path}Airline Commission Agreement.pdf')\n",
        "\n",
        "#perform basic processing to remove \\n\n",
        "processed_text = \" \".join(text.split(\"\\n\"))\n",
        "print(processed_text)"
      ],
      "metadata": {
        "colab": {
          "base_uri": "https://localhost:8080/"
        },
        "id": "gTQzOtoDGW_s",
        "outputId": "efd48e3f-901d-4425-cbf0-d5deb8e39126"
      },
      "execution_count": null,
      "outputs": [
        {
          "output_type": "stream",
          "name": "stdout",
          "text": [
            "Airline Commission Agreement   Agreement Id  Airline  Agency   CCC123  AA - American Airline  AG001 - Fantastic Voyages    Booking Dates  Flight Dates   01JUL2023  01JUL2023   15DEC2023  31DEC2023   Origin  MIA, FLL  MIA, FLL   Des:na:on  SFO, LAX, SAN  SFO, LAX, SAN   Class  B, E, G  A, C, F   Commission  5%  8%         \f\n"
          ]
        }
      ]
    },
    {
      "cell_type": "code",
      "source": [
        "#import langChain ChatOpenAI module\n",
        "from langchain.chat_models import ChatOpenAI\n",
        "\n",
        "#load GPT 3.5 model\n",
        "llm = ChatOpenAI(\n",
        "    model_name=\"gpt-3.5-turbo\",\n",
        "    temperature=0,\n",
        "    max_tokens=2000\n",
        ")\n",
        "\n",
        "# import neccessary packages from korr\n",
        "from kor.extraction import create_extraction_chain\n",
        "from kor.nodes import Object, Text, Number"
      ],
      "metadata": {
        "id": "0sRDHNZeG3b5"
      },
      "execution_count": null,
      "outputs": []
    },
    {
      "cell_type": "code",
      "source": [
        "# kor schemas\n",
        "\n",
        "airline_schema = Object(\n",
        "    id=\"airline\",\n",
        "    description=\"airline code and name\",\n",
        "    attributes=[\n",
        "        Text(id=\"code\"),\n",
        "        Text(id=\"name\")\n",
        "    ],\n",
        "    examples=[\n",
        "        (\"Airline CC - airline name\",\n",
        "         {\n",
        "            \"code\": \"CC\",\n",
        "            \"name\": \"airline name\"\n",
        "         },\n",
        "        )\n",
        "    ],\n",
        "    many=False\n",
        ")\n",
        "\n",
        "agency_schema = Object(\n",
        "    id=\"agency\",\n",
        "    description=\"agency code and name\",\n",
        "    attributes=[\n",
        "        Text(id=\"code\"),\n",
        "        Text(id=\"name\")\n",
        "    ],\n",
        "    examples=[\n",
        "        (\"Agency.  code - agency name\",\n",
        "         {\n",
        "            \"code\": \"code\",\n",
        "            \"name\": \"agency name\"\n",
        "         },\n",
        "        )\n",
        "    ],\n",
        "    many=False\n",
        ")\n",
        "\n",
        "commission_schema = Object(\n",
        "    id=\"commission\",\n",
        "    description=\"commission rules\",\n",
        "    attributes=[\n",
        "        Text(id=\"origin\"),\n",
        "        Text(id=\"destination\"),\n",
        "        Text(id=\"class\"),\n",
        "        Text(id='percent')\n",
        "    ],\n",
        "    examples=[\n",
        "        (\"ooo ddd ccc ppp%\",\n",
        "         {\n",
        "            \"origin\": \"ooo\",\n",
        "            \"destination\": \"ddd\",\n",
        "            \"class\": \"ccc\",\n",
        "            \"percent\": \"ppp\"\n",
        "         },\n",
        "        )\n",
        "    ],\n",
        "    many=True\n",
        ")\n",
        "\n",
        "\n",
        "id_schema = Object(\n",
        "    id=\"id\",\n",
        "    description=\"descr\",\n",
        "    attributes=[\n",
        "            Text(\n",
        "            id=\"agreement_id\",\n",
        "            description= \"unique identifier for this agreement\",\n",
        "        examples=[\n",
        "            (\"agreement id xxxx\", \"xxxx\"),\n",
        "            (\"agreement abc123\", \"abc123\")\n",
        "        ])\n",
        "    ],\n",
        "    many=False\n",
        ")\n",
        "\n",
        "## agreement schema\n",
        "agreement_schema = Object(\n",
        "    id=\"header\",\n",
        "    description=\"agreement header information\",\n",
        "    attributes=[\n",
        "        id_schema,\n",
        "        airline_schema,\n",
        "        agency_schema,\n",
        "        commission_schema\n",
        "    ],\n",
        "    many=False,\n",
        ")\n"
      ],
      "metadata": {
        "id": "VDD1Px3LItPm"
      },
      "execution_count": null,
      "outputs": []
    },
    {
      "cell_type": "code",
      "source": [
        "header_chain = create_extraction_chain(llm\n",
        "    ,agreement_schema\n",
        "    ,encoder_or_encoder_class=\"json\"\n",
        "    ,input_formatter=None)\n",
        "header_chain.predict_and_parse(text=processed_text)[\"data\"]\n"
      ],
      "metadata": {
        "colab": {
          "base_uri": "https://localhost:8080/"
        },
        "id": "aPAc8vc7KlZ0",
        "outputId": "15447ac1-9468-4773-af6c-17b296d1dff2"
      },
      "execution_count": null,
      "outputs": [
        {
          "output_type": "execute_result",
          "data": {
            "text/plain": [
              "{'header': {'id': {'agreement_id': 'CCC123'},\n",
              "  'airline': {'code': 'AA', 'name': 'American Airline'},\n",
              "  'agency': {'code': 'AG001', 'name': 'Fantastic Voyages'},\n",
              "  'commission': [{'origin': 'MIA',\n",
              "    'destination': 'SFO',\n",
              "    'class': 'B',\n",
              "    'percent': '5'},\n",
              "   {'origin': 'MIA', 'destination': 'LAX', 'class': 'E', 'percent': '5'},\n",
              "   {'origin': 'MIA', 'destination': 'SAN', 'class': 'G', 'percent': '5'},\n",
              "   {'origin': 'FLL', 'destination': 'SFO', 'class': 'A', 'percent': '8'},\n",
              "   {'origin': 'FLL', 'destination': 'LAX', 'class': 'C', 'percent': '8'},\n",
              "   {'origin': 'FLL', 'destination': 'SAN', 'class': 'F', 'percent': '8'}]}}"
            ]
          },
          "metadata": {},
          "execution_count": 37
        }
      ]
    },
    {
      "cell_type": "code",
      "source": [],
      "metadata": {
        "id": "ZYXRWEjvOqxE"
      },
      "execution_count": null,
      "outputs": []
    }
  ]
}