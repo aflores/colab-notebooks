{
  "nbformat": 4,
  "nbformat_minor": 0,
  "metadata": {
    "colab": {
      "provenance": [],
      "authorship_tag": "ABX9TyMlH/EUqvvEFHTF2QURtew8",
      "include_colab_link": true
    },
    "kernelspec": {
      "name": "python3",
      "display_name": "Python 3"
    },
    "language_info": {
      "name": "python"
    }
  },
  "cells": [
    {
      "cell_type": "markdown",
      "metadata": {
        "id": "view-in-github",
        "colab_type": "text"
      },
      "source": [
        "<a href=\"https://colab.research.google.com/github/aflores/colab-notebooks/blob/master/02-llamaindex-overview.ipynb\" target=\"_parent\"><img src=\"https://colab.research.google.com/assets/colab-badge.svg\" alt=\"Open In Colab\"/></a>"
      ]
    },
    {
      "cell_type": "code",
      "execution_count": null,
      "metadata": {
        "id": "RoCFL-rjGHjW"
      },
      "outputs": [],
      "source": []
    },
    {
      "cell_type": "markdown",
      "source": [
        "# Overview of LlamaIndex"
      ],
      "metadata": {
        "id": "3EU1-eU2GkIv"
      }
    },
    {
      "cell_type": "markdown",
      "source": [
        "Code from the langchain book in leanpub\n",
        "\n",
        "LlamaIndex is a project that provides a central interface to connect your language models with external data.\n",
        "\n",
        "Compared to LangChain, LlamaIndex presents a focused advantage in the realm of indexing and retrieval tasks."
      ],
      "metadata": {
        "id": "TNWa6KVfGU8G"
      }
    },
    {
      "cell_type": "code",
      "source": [
        "!pip install -U trafilatura html2text"
      ],
      "metadata": {
        "id": "5tuvv5K9Gy5a"
      },
      "execution_count": null,
      "outputs": []
    }
  ]
}